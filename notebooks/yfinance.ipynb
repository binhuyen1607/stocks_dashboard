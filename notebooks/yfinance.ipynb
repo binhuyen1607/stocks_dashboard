{
 "cells": [
  {
   "cell_type": "code",
   "execution_count": 43,
   "metadata": {},
   "outputs": [],
   "source": [
    "import yfinance as yf\n",
    "import pandas as pd\n",
    "import plotly.graph_objects as go"
   ]
  },
  {
   "cell_type": "code",
   "execution_count": 44,
   "metadata": {},
   "outputs": [],
   "source": [
    "import pandas as pd\n",
    "import os\n",
    "\n",
    "# Create a table (DataFrame) with sector IDs and names\n",
    "sector_list = [\n",
    "    {\"id_sector\": 1, \"sector\": \"technology\"},\n",
    "    {\"id_sector\": 2, \"sector\": \"communication-services\"},\n",
    "    {\"id_sector\": 3, \"sector\": \"consumer-cyclical\"},\n",
    "    {\"id_sector\": 4, \"sector\": \"consumer-defensive\"},\n",
    "    {\"id_sector\": 5, \"sector\": \"energy\"},\n",
    "    {\"id_sector\": 6, \"sector\": \"healthcare\"},\n",
    "    {\"id_sector\": 7, \"sector\": \"industrials\"},\n",
    "    {\"id_sector\": 8, \"sector\": \"real-estate\"},\n",
    "    {\"id_sector\": 9, \"sector\": \"utilities\"}\n",
    "]\n",
    "\n",
    "sectors_df = pd.DataFrame(sector_list)\n",
    "sectors_df.to_csv(\"../data/sectors.csv\", index=False)"
   ]
  },
  {
   "cell_type": "code",
   "execution_count": 58,
   "metadata": {},
   "outputs": [
    {
     "name": "stdout",
     "output_type": "stream",
     "text": [
      "   id_key  sector_id      sector                              key  \\\n",
      "0       1          1  technology                   semiconductors   \n",
      "1       2          1  technology          software-infrastructure   \n",
      "2       3          1  technology             consumer-electronics   \n",
      "3       4          1  technology             software-application   \n",
      "4       5          1  technology  information-technology-services   \n",
      "\n",
      "                              name       symbol  market_weight  \n",
      "0                   Semiconductors  ^YH31130020       0.311612  \n",
      "1        Software - Infrastructure  ^YH31110030       0.282199  \n",
      "2             Consumer Electronics  ^YH31120030       0.145690  \n",
      "3           Software - Application  ^YH31110020       0.124728  \n",
      "4  Information Technology Services  ^YH31110010       0.042663  \n"
     ]
    }
   ],
   "source": [
    "sector_list = [\n",
    "    \"technology\", \"communication-services\", \"consumer-cyclical\",\n",
    "    \"consumer-defensive\", \"energy\", \"healthcare\",\n",
    "    \"industrials\", \"real-estate\", \"utilities\"\n",
    "]\n",
    "\n",
    "# Create sector_id mapping\n",
    "sector_id_map = {sector: idx + 1 for idx, sector in enumerate(sector_list)}\n",
    "\n",
    "data = []\n",
    "\n",
    "for sector_name in sector_list:\n",
    "    try:\n",
    "        sector = yf.Sector(sector_name)\n",
    "        industries_df = sector.industries\n",
    "\n",
    "        # Check if data exists\n",
    "        if industries_df is not None and not industries_df.empty:\n",
    "            for key, row in industries_df.iterrows():\n",
    "                data.append({\n",
    "                    \"sector_id\": sector_id_map[sector_name],\n",
    "                    \"sector\": sector_name,\n",
    "                    \"key\": key,\n",
    "                    \"name\": row[\"name\"],\n",
    "                    \"symbol\": row[\"symbol\"],\n",
    "                    \"market_weight\": row[\"market weight\"]\n",
    "                })\n",
    "        else:\n",
    "            print(f\"[!] No data for sector: {sector_name}\")\n",
    "    except Exception as e:\n",
    "        print(f\"[!] Error retrieving data for sector '{sector_name}': {e}\")\n",
    "\n",
    "# Create DataFrame\n",
    "df = pd.DataFrame(data)\n",
    "\n",
    "# Add auto-incrementing ID for each key\n",
    "df.insert(0, \"id_key\", range(1, len(df) + 1))\n",
    "\n",
    "# Show a few rows\n",
    "print(df.head())\n",
    "\n",
    "# Save file if needed\n",
    "df.to_csv(\"../data/all_sectors_data.csv\", index=False)"
   ]
  },
  {
   "cell_type": "code",
   "execution_count": null,
   "metadata": {},
   "outputs": [
    {
     "name": "stderr",
     "output_type": "stream",
     "text": [
      "C:\\Users\\HP\\AppData\\Local\\Temp\\ipykernel_8296\\2043910567.py:19: FutureWarning: Series.__getitem__ treating keys as positions is deprecated. In a future version, integer keys will always be treated as labels (consistent with DataFrame behavior). To access a value by position, use `ser.iloc[pos]`\n",
      "  last_price = hist['Close'][-1]\n",
      "C:\\Users\\HP\\AppData\\Local\\Temp\\ipykernel_8296\\2043910567.py:20: FutureWarning: Series.__getitem__ treating keys as positions is deprecated. In a future version, integer keys will always be treated as labels (consistent with DataFrame behavior). To access a value by position, use `ser.iloc[pos]`\n",
      "  prev_price = hist['Close'][-2]\n",
      "C:\\Users\\HP\\AppData\\Local\\Temp\\ipykernel_8296\\2043910567.py:19: FutureWarning: Series.__getitem__ treating keys as positions is deprecated. In a future version, integer keys will always be treated as labels (consistent with DataFrame behavior). To access a value by position, use `ser.iloc[pos]`\n",
      "  last_price = hist['Close'][-1]\n",
      "C:\\Users\\HP\\AppData\\Local\\Temp\\ipykernel_8296\\2043910567.py:20: FutureWarning: Series.__getitem__ treating keys as positions is deprecated. In a future version, integer keys will always be treated as labels (consistent with DataFrame behavior). To access a value by position, use `ser.iloc[pos]`\n",
      "  prev_price = hist['Close'][-2]\n",
      "C:\\Users\\HP\\AppData\\Local\\Temp\\ipykernel_8296\\2043910567.py:19: FutureWarning: Series.__getitem__ treating keys as positions is deprecated. In a future version, integer keys will always be treated as labels (consistent with DataFrame behavior). To access a value by position, use `ser.iloc[pos]`\n",
      "  last_price = hist['Close'][-1]\n",
      "C:\\Users\\HP\\AppData\\Local\\Temp\\ipykernel_8296\\2043910567.py:20: FutureWarning: Series.__getitem__ treating keys as positions is deprecated. In a future version, integer keys will always be treated as labels (consistent with DataFrame behavior). To access a value by position, use `ser.iloc[pos]`\n",
      "  prev_price = hist['Close'][-2]\n",
      "C:\\Users\\HP\\AppData\\Local\\Temp\\ipykernel_8296\\2043910567.py:19: FutureWarning: Series.__getitem__ treating keys as positions is deprecated. In a future version, integer keys will always be treated as labels (consistent with DataFrame behavior). To access a value by position, use `ser.iloc[pos]`\n",
      "  last_price = hist['Close'][-1]\n",
      "C:\\Users\\HP\\AppData\\Local\\Temp\\ipykernel_8296\\2043910567.py:20: FutureWarning: Series.__getitem__ treating keys as positions is deprecated. In a future version, integer keys will always be treated as labels (consistent with DataFrame behavior). To access a value by position, use `ser.iloc[pos]`\n",
      "  prev_price = hist['Close'][-2]\n",
      "C:\\Users\\HP\\AppData\\Local\\Temp\\ipykernel_8296\\2043910567.py:19: FutureWarning: Series.__getitem__ treating keys as positions is deprecated. In a future version, integer keys will always be treated as labels (consistent with DataFrame behavior). To access a value by position, use `ser.iloc[pos]`\n",
      "  last_price = hist['Close'][-1]\n",
      "C:\\Users\\HP\\AppData\\Local\\Temp\\ipykernel_8296\\2043910567.py:20: FutureWarning: Series.__getitem__ treating keys as positions is deprecated. In a future version, integer keys will always be treated as labels (consistent with DataFrame behavior). To access a value by position, use `ser.iloc[pos]`\n",
      "  prev_price = hist['Close'][-2]\n"
     ]
    },
    {
     "data": {
      "application/vnd.plotly.v1+json": {
       "config": {
        "plotlyServerURL": "https://plot.ly"
       },
       "data": [
        {
         "cells": {
          "align": "center",
          "fill": {
           "color": [
            [
             "white",
             "white",
             "white",
             "white",
             "white"
            ],
            [
             "white",
             "white",
             "white",
             "white",
             "white"
            ],
            [
             "white",
             "white",
             "white",
             "white",
             "white"
            ],
            [
             "white",
             "white",
             "white",
             "white",
             "white"
            ],
            [
             "white",
             "white",
             "white",
             "white",
             "white"
            ],
            [
             "white",
             "white",
             "white",
             "white",
             "white"
            ],
            [
             "white",
             "white",
             "white",
             "white",
             "white"
            ]
           ]
          },
          "values": [
           [
            "CFLT",
            "AVDX",
            "OSPN",
            "GB",
            "IOT"
           ],
           [
            24.47,
            9.79,
            16.81,
            7.48,
            39.6
           ],
           [
            24.85,
            9.8,
            16.76,
            7.47,
            39.72
           ],
           [
            -0.38,
            -0.01,
            0.05,
            0.01,
            -0.12
           ],
           [
            "-1.5%",
            "-0.1%",
            "0.3%",
            "0.1%",
            "-0.3%"
           ],
           [
            24.95,
            9.81,
            16.9,
            7.49,
            40.59
           ],
           [
            23.6,
            9.78,
            15.74,
            7.46,
            38.47
           ]
          ]
         },
         "header": {
          "align": "center",
          "fill": {
           "color": "darkblue"
          },
          "font": {
           "color": "white",
           "size": 12
          },
          "values": [
           "Stock Codes",
           "Last Price",
           "Previous Day Price",
           "Price Change",
           "% Change",
           "Max Price",
           "Low Price"
          ]
         },
         "type": "table"
        }
       ],
       "layout": {
        "height": 400,
        "template": {
         "data": {
          "bar": [
           {
            "error_x": {
             "color": "#2a3f5f"
            },
            "error_y": {
             "color": "#2a3f5f"
            },
            "marker": {
             "line": {
              "color": "#E5ECF6",
              "width": 0.5
             },
             "pattern": {
              "fillmode": "overlay",
              "size": 10,
              "solidity": 0.2
             }
            },
            "type": "bar"
           }
          ],
          "barpolar": [
           {
            "marker": {
             "line": {
              "color": "#E5ECF6",
              "width": 0.5
             },
             "pattern": {
              "fillmode": "overlay",
              "size": 10,
              "solidity": 0.2
             }
            },
            "type": "barpolar"
           }
          ],
          "carpet": [
           {
            "aaxis": {
             "endlinecolor": "#2a3f5f",
             "gridcolor": "white",
             "linecolor": "white",
             "minorgridcolor": "white",
             "startlinecolor": "#2a3f5f"
            },
            "baxis": {
             "endlinecolor": "#2a3f5f",
             "gridcolor": "white",
             "linecolor": "white",
             "minorgridcolor": "white",
             "startlinecolor": "#2a3f5f"
            },
            "type": "carpet"
           }
          ],
          "choropleth": [
           {
            "colorbar": {
             "outlinewidth": 0,
             "ticks": ""
            },
            "type": "choropleth"
           }
          ],
          "contour": [
           {
            "colorbar": {
             "outlinewidth": 0,
             "ticks": ""
            },
            "colorscale": [
             [
              0,
              "#0d0887"
             ],
             [
              0.1111111111111111,
              "#46039f"
             ],
             [
              0.2222222222222222,
              "#7201a8"
             ],
             [
              0.3333333333333333,
              "#9c179e"
             ],
             [
              0.4444444444444444,
              "#bd3786"
             ],
             [
              0.5555555555555556,
              "#d8576b"
             ],
             [
              0.6666666666666666,
              "#ed7953"
             ],
             [
              0.7777777777777778,
              "#fb9f3a"
             ],
             [
              0.8888888888888888,
              "#fdca26"
             ],
             [
              1,
              "#f0f921"
             ]
            ],
            "type": "contour"
           }
          ],
          "contourcarpet": [
           {
            "colorbar": {
             "outlinewidth": 0,
             "ticks": ""
            },
            "type": "contourcarpet"
           }
          ],
          "heatmap": [
           {
            "colorbar": {
             "outlinewidth": 0,
             "ticks": ""
            },
            "colorscale": [
             [
              0,
              "#0d0887"
             ],
             [
              0.1111111111111111,
              "#46039f"
             ],
             [
              0.2222222222222222,
              "#7201a8"
             ],
             [
              0.3333333333333333,
              "#9c179e"
             ],
             [
              0.4444444444444444,
              "#bd3786"
             ],
             [
              0.5555555555555556,
              "#d8576b"
             ],
             [
              0.6666666666666666,
              "#ed7953"
             ],
             [
              0.7777777777777778,
              "#fb9f3a"
             ],
             [
              0.8888888888888888,
              "#fdca26"
             ],
             [
              1,
              "#f0f921"
             ]
            ],
            "type": "heatmap"
           }
          ],
          "histogram": [
           {
            "marker": {
             "pattern": {
              "fillmode": "overlay",
              "size": 10,
              "solidity": 0.2
             }
            },
            "type": "histogram"
           }
          ],
          "histogram2d": [
           {
            "colorbar": {
             "outlinewidth": 0,
             "ticks": ""
            },
            "colorscale": [
             [
              0,
              "#0d0887"
             ],
             [
              0.1111111111111111,
              "#46039f"
             ],
             [
              0.2222222222222222,
              "#7201a8"
             ],
             [
              0.3333333333333333,
              "#9c179e"
             ],
             [
              0.4444444444444444,
              "#bd3786"
             ],
             [
              0.5555555555555556,
              "#d8576b"
             ],
             [
              0.6666666666666666,
              "#ed7953"
             ],
             [
              0.7777777777777778,
              "#fb9f3a"
             ],
             [
              0.8888888888888888,
              "#fdca26"
             ],
             [
              1,
              "#f0f921"
             ]
            ],
            "type": "histogram2d"
           }
          ],
          "histogram2dcontour": [
           {
            "colorbar": {
             "outlinewidth": 0,
             "ticks": ""
            },
            "colorscale": [
             [
              0,
              "#0d0887"
             ],
             [
              0.1111111111111111,
              "#46039f"
             ],
             [
              0.2222222222222222,
              "#7201a8"
             ],
             [
              0.3333333333333333,
              "#9c179e"
             ],
             [
              0.4444444444444444,
              "#bd3786"
             ],
             [
              0.5555555555555556,
              "#d8576b"
             ],
             [
              0.6666666666666666,
              "#ed7953"
             ],
             [
              0.7777777777777778,
              "#fb9f3a"
             ],
             [
              0.8888888888888888,
              "#fdca26"
             ],
             [
              1,
              "#f0f921"
             ]
            ],
            "type": "histogram2dcontour"
           }
          ],
          "mesh3d": [
           {
            "colorbar": {
             "outlinewidth": 0,
             "ticks": ""
            },
            "type": "mesh3d"
           }
          ],
          "parcoords": [
           {
            "line": {
             "colorbar": {
              "outlinewidth": 0,
              "ticks": ""
             }
            },
            "type": "parcoords"
           }
          ],
          "pie": [
           {
            "automargin": true,
            "type": "pie"
           }
          ],
          "scatter": [
           {
            "fillpattern": {
             "fillmode": "overlay",
             "size": 10,
             "solidity": 0.2
            },
            "type": "scatter"
           }
          ],
          "scatter3d": [
           {
            "line": {
             "colorbar": {
              "outlinewidth": 0,
              "ticks": ""
             }
            },
            "marker": {
             "colorbar": {
              "outlinewidth": 0,
              "ticks": ""
             }
            },
            "type": "scatter3d"
           }
          ],
          "scattercarpet": [
           {
            "marker": {
             "colorbar": {
              "outlinewidth": 0,
              "ticks": ""
             }
            },
            "type": "scattercarpet"
           }
          ],
          "scattergeo": [
           {
            "marker": {
             "colorbar": {
              "outlinewidth": 0,
              "ticks": ""
             }
            },
            "type": "scattergeo"
           }
          ],
          "scattergl": [
           {
            "marker": {
             "colorbar": {
              "outlinewidth": 0,
              "ticks": ""
             }
            },
            "type": "scattergl"
           }
          ],
          "scattermap": [
           {
            "marker": {
             "colorbar": {
              "outlinewidth": 0,
              "ticks": ""
             }
            },
            "type": "scattermap"
           }
          ],
          "scattermapbox": [
           {
            "marker": {
             "colorbar": {
              "outlinewidth": 0,
              "ticks": ""
             }
            },
            "type": "scattermapbox"
           }
          ],
          "scatterpolar": [
           {
            "marker": {
             "colorbar": {
              "outlinewidth": 0,
              "ticks": ""
             }
            },
            "type": "scatterpolar"
           }
          ],
          "scatterpolargl": [
           {
            "marker": {
             "colorbar": {
              "outlinewidth": 0,
              "ticks": ""
             }
            },
            "type": "scatterpolargl"
           }
          ],
          "scatterternary": [
           {
            "marker": {
             "colorbar": {
              "outlinewidth": 0,
              "ticks": ""
             }
            },
            "type": "scatterternary"
           }
          ],
          "surface": [
           {
            "colorbar": {
             "outlinewidth": 0,
             "ticks": ""
            },
            "colorscale": [
             [
              0,
              "#0d0887"
             ],
             [
              0.1111111111111111,
              "#46039f"
             ],
             [
              0.2222222222222222,
              "#7201a8"
             ],
             [
              0.3333333333333333,
              "#9c179e"
             ],
             [
              0.4444444444444444,
              "#bd3786"
             ],
             [
              0.5555555555555556,
              "#d8576b"
             ],
             [
              0.6666666666666666,
              "#ed7953"
             ],
             [
              0.7777777777777778,
              "#fb9f3a"
             ],
             [
              0.8888888888888888,
              "#fdca26"
             ],
             [
              1,
              "#f0f921"
             ]
            ],
            "type": "surface"
           }
          ],
          "table": [
           {
            "cells": {
             "fill": {
              "color": "#EBF0F8"
             },
             "line": {
              "color": "white"
             }
            },
            "header": {
             "fill": {
              "color": "#C8D4E3"
             },
             "line": {
              "color": "white"
             }
            },
            "type": "table"
           }
          ]
         },
         "layout": {
          "annotationdefaults": {
           "arrowcolor": "#2a3f5f",
           "arrowhead": 0,
           "arrowwidth": 1
          },
          "autotypenumbers": "strict",
          "coloraxis": {
           "colorbar": {
            "outlinewidth": 0,
            "ticks": ""
           }
          },
          "colorscale": {
           "diverging": [
            [
             0,
             "#8e0152"
            ],
            [
             0.1,
             "#c51b7d"
            ],
            [
             0.2,
             "#de77ae"
            ],
            [
             0.3,
             "#f1b6da"
            ],
            [
             0.4,
             "#fde0ef"
            ],
            [
             0.5,
             "#f7f7f7"
            ],
            [
             0.6,
             "#e6f5d0"
            ],
            [
             0.7,
             "#b8e186"
            ],
            [
             0.8,
             "#7fbc41"
            ],
            [
             0.9,
             "#4d9221"
            ],
            [
             1,
             "#276419"
            ]
           ],
           "sequential": [
            [
             0,
             "#0d0887"
            ],
            [
             0.1111111111111111,
             "#46039f"
            ],
            [
             0.2222222222222222,
             "#7201a8"
            ],
            [
             0.3333333333333333,
             "#9c179e"
            ],
            [
             0.4444444444444444,
             "#bd3786"
            ],
            [
             0.5555555555555556,
             "#d8576b"
            ],
            [
             0.6666666666666666,
             "#ed7953"
            ],
            [
             0.7777777777777778,
             "#fb9f3a"
            ],
            [
             0.8888888888888888,
             "#fdca26"
            ],
            [
             1,
             "#f0f921"
            ]
           ],
           "sequentialminus": [
            [
             0,
             "#0d0887"
            ],
            [
             0.1111111111111111,
             "#46039f"
            ],
            [
             0.2222222222222222,
             "#7201a8"
            ],
            [
             0.3333333333333333,
             "#9c179e"
            ],
            [
             0.4444444444444444,
             "#bd3786"
            ],
            [
             0.5555555555555556,
             "#d8576b"
            ],
            [
             0.6666666666666666,
             "#ed7953"
            ],
            [
             0.7777777777777778,
             "#fb9f3a"
            ],
            [
             0.8888888888888888,
             "#fdca26"
            ],
            [
             1,
             "#f0f921"
            ]
           ]
          },
          "colorway": [
           "#636efa",
           "#EF553B",
           "#00cc96",
           "#ab63fa",
           "#FFA15A",
           "#19d3f3",
           "#FF6692",
           "#B6E880",
           "#FF97FF",
           "#FECB52"
          ],
          "font": {
           "color": "#2a3f5f"
          },
          "geo": {
           "bgcolor": "white",
           "lakecolor": "white",
           "landcolor": "#E5ECF6",
           "showlakes": true,
           "showland": true,
           "subunitcolor": "white"
          },
          "hoverlabel": {
           "align": "left"
          },
          "hovermode": "closest",
          "mapbox": {
           "style": "light"
          },
          "paper_bgcolor": "white",
          "plot_bgcolor": "#E5ECF6",
          "polar": {
           "angularaxis": {
            "gridcolor": "white",
            "linecolor": "white",
            "ticks": ""
           },
           "bgcolor": "#E5ECF6",
           "radialaxis": {
            "gridcolor": "white",
            "linecolor": "white",
            "ticks": ""
           }
          },
          "scene": {
           "xaxis": {
            "backgroundcolor": "#E5ECF6",
            "gridcolor": "white",
            "gridwidth": 2,
            "linecolor": "white",
            "showbackground": true,
            "ticks": "",
            "zerolinecolor": "white"
           },
           "yaxis": {
            "backgroundcolor": "#E5ECF6",
            "gridcolor": "white",
            "gridwidth": 2,
            "linecolor": "white",
            "showbackground": true,
            "ticks": "",
            "zerolinecolor": "white"
           },
           "zaxis": {
            "backgroundcolor": "#E5ECF6",
            "gridcolor": "white",
            "gridwidth": 2,
            "linecolor": "white",
            "showbackground": true,
            "ticks": "",
            "zerolinecolor": "white"
           }
          },
          "shapedefaults": {
           "line": {
            "color": "#2a3f5f"
           }
          },
          "ternary": {
           "aaxis": {
            "gridcolor": "white",
            "linecolor": "white",
            "ticks": ""
           },
           "baxis": {
            "gridcolor": "white",
            "linecolor": "white",
            "ticks": ""
           },
           "bgcolor": "#E5ECF6",
           "caxis": {
            "gridcolor": "white",
            "linecolor": "white",
            "ticks": ""
           }
          },
          "title": {
           "x": 0.05
          },
          "xaxis": {
           "automargin": true,
           "gridcolor": "white",
           "linecolor": "white",
           "ticks": "",
           "title": {
            "standoff": 15
           },
           "zerolinecolor": "white",
           "zerolinewidth": 2
          },
          "yaxis": {
           "automargin": true,
           "gridcolor": "white",
           "linecolor": "white",
           "ticks": "",
           "title": {
            "standoff": 15
           },
           "zerolinecolor": "white",
           "zerolinewidth": 2
          }
         }
        },
        "width": 1000
       }
      }
     },
     "metadata": {},
     "output_type": "display_data"
    }
   ],
   "source": [
    "# === STEP 1: FILTER STOCK LIST BY INDUSTRY ===\n",
    "industry_name = \"software-infrastructure\"\n",
    "industry = yf.Industry(industry_name)\n",
    "\n",
    "# You can choose: top_growth_companies or top_performing_companies\n",
    "industry_df = industry.top_growth_companies\n",
    "\n",
    "# Get up to the first 10 tickers to avoid rate limits\n",
    "tickers = industry_df.index.tolist()[:10]\n",
    "\n",
    "# === STEP 2: GET PRICE DATA ===\n",
    "def get_price_data(ticker):\n",
    "    try:\n",
    "        stock = yf.Ticker(ticker)\n",
    "        hist = stock.history(period=\"2d\")\n",
    "        if len(hist) < 2:\n",
    "            return None\n",
    "\n",
    "        last_price = hist['Close'][-1]\n",
    "        prev_price = hist['Close'][-2]\n",
    "        price_change = last_price - prev_price\n",
    "        pct_change = (price_change / prev_price) * 100\n",
    "\n",
    "        max_price = hist['High'].max()\n",
    "        low_price = hist['Low'].min()\n",
    "\n",
    "        return {\n",
    "            \"Stock Codes\": ticker,\n",
    "            \"Last Price\": round(last_price, 2),\n",
    "            \"Previous Day Price\": round(prev_price, 2),\n",
    "            \"Price Change\": round(price_change, 2),\n",
    "            \"% Change\": f\"{pct_change:.1f}%\",\n",
    "            \"Max Price\": round(max_price, 2),\n",
    "            \"Low Price\": round(low_price, 2)\n",
    "        }\n",
    "    except:\n",
    "        return None\n",
    "\n",
    "data = [get_price_data(tk) for tk in tickers]\n",
    "data = [d for d in data if d]\n",
    "df = pd.DataFrame(data)\n",
    "\n",
    "# === STEP 3: DISPLAY TABLE ===\n",
    "fig = go.Figure(data=[go.Table(\n",
    "    header=dict(\n",
    "        values=list(df.columns),\n",
    "        fill_color='darkblue',\n",
    "        font=dict(color='white', size=12),\n",
    "        align='center'\n",
    "    ),\n",
    "    cells=dict(\n",
    "        values=[df[col] for col in df.columns],\n",
    "        fill_color=[\n",
    "            ['#d4edda' if isinstance(v, str) and '-' not in v and '%' in v\n",
    "             else '#f8d7da' if isinstance(v, str) and '-' in v and '%' in v\n",
    "             else 'white'] * len(df) for v in df.T.values\n",
    "        ],\n",
    "        align='center'\n",
    "    ))\n",
    "])\n",
    "\n",
    "fig.update_layout(width=1000, height=400)\n",
    "fig.show()\n"
   ]
  },
  {
   "cell_type": "code",
   "execution_count": null,
   "metadata": {},
   "outputs": [
    {
     "name": "stderr",
     "output_type": "stream",
     "text": [
      "C:\\Users\\HP\\AppData\\Local\\Temp\\ipykernel_8296\\1990643687.py:16: FutureWarning:\n",
      "\n",
      "Series.__getitem__ treating keys as positions is deprecated. In a future version, integer keys will always be treated as labels (consistent with DataFrame behavior). To access a value by position, use `ser.iloc[pos]`\n",
      "\n",
      "C:\\Users\\HP\\AppData\\Local\\Temp\\ipykernel_8296\\1990643687.py:17: FutureWarning:\n",
      "\n",
      "Series.__getitem__ treating keys as positions is deprecated. In a future version, integer keys will always be treated as labels (consistent with DataFrame behavior). To access a value by position, use `ser.iloc[pos]`\n",
      "\n",
      "C:\\Users\\HP\\AppData\\Local\\Temp\\ipykernel_8296\\1990643687.py:16: FutureWarning:\n",
      "\n",
      "Series.__getitem__ treating keys as positions is deprecated. In a future version, integer keys will always be treated as labels (consistent with DataFrame behavior). To access a value by position, use `ser.iloc[pos]`\n",
      "\n",
      "C:\\Users\\HP\\AppData\\Local\\Temp\\ipykernel_8296\\1990643687.py:17: FutureWarning:\n",
      "\n",
      "Series.__getitem__ treating keys as positions is deprecated. In a future version, integer keys will always be treated as labels (consistent with DataFrame behavior). To access a value by position, use `ser.iloc[pos]`\n",
      "\n",
      "C:\\Users\\HP\\AppData\\Local\\Temp\\ipykernel_8296\\1990643687.py:16: FutureWarning:\n",
      "\n",
      "Series.__getitem__ treating keys as positions is deprecated. In a future version, integer keys will always be treated as labels (consistent with DataFrame behavior). To access a value by position, use `ser.iloc[pos]`\n",
      "\n",
      "C:\\Users\\HP\\AppData\\Local\\Temp\\ipykernel_8296\\1990643687.py:17: FutureWarning:\n",
      "\n",
      "Series.__getitem__ treating keys as positions is deprecated. In a future version, integer keys will always be treated as labels (consistent with DataFrame behavior). To access a value by position, use `ser.iloc[pos]`\n",
      "\n"
     ]
    },
    {
     "name": "stdout",
     "output_type": "stream",
     "text": [
      "✅ Đã lưu file: top_growth_stocks.csv\n"
     ]
    },
    {
     "name": "stderr",
     "output_type": "stream",
     "text": [
      "C:\\Users\\HP\\AppData\\Local\\Temp\\ipykernel_8296\\1990643687.py:16: FutureWarning:\n",
      "\n",
      "Series.__getitem__ treating keys as positions is deprecated. In a future version, integer keys will always be treated as labels (consistent with DataFrame behavior). To access a value by position, use `ser.iloc[pos]`\n",
      "\n",
      "C:\\Users\\HP\\AppData\\Local\\Temp\\ipykernel_8296\\1990643687.py:17: FutureWarning:\n",
      "\n",
      "Series.__getitem__ treating keys as positions is deprecated. In a future version, integer keys will always be treated as labels (consistent with DataFrame behavior). To access a value by position, use `ser.iloc[pos]`\n",
      "\n",
      "C:\\Users\\HP\\AppData\\Local\\Temp\\ipykernel_8296\\1990643687.py:16: FutureWarning:\n",
      "\n",
      "Series.__getitem__ treating keys as positions is deprecated. In a future version, integer keys will always be treated as labels (consistent with DataFrame behavior). To access a value by position, use `ser.iloc[pos]`\n",
      "\n",
      "C:\\Users\\HP\\AppData\\Local\\Temp\\ipykernel_8296\\1990643687.py:17: FutureWarning:\n",
      "\n",
      "Series.__getitem__ treating keys as positions is deprecated. In a future version, integer keys will always be treated as labels (consistent with DataFrame behavior). To access a value by position, use `ser.iloc[pos]`\n",
      "\n"
     ]
    }
   ],
   "source": [
    "# === STEP 1: FILTER STOCK LIST BY INDUSTRY ===\n",
    "industry_name = \"software-infrastructure\"\n",
    "industry = yf.Industry(industry_name)\n",
    "\n",
    "industry_df = industry.top_growth_companies\n",
    "tickers = industry_df.index.tolist()[:10]\n",
    "\n",
    "# === STEP 2: GET PRICE DATA ===\n",
    "def get_price_data(ticker):\n",
    "    try:\n",
    "        stock = yf.Ticker(ticker)\n",
    "        hist = stock.history(period=\"2d\")\n",
    "        if len(hist) < 2:\n",
    "            return None\n",
    "\n",
    "        last_price = hist['Close'][-1]\n",
    "        prev_price = hist['Close'][-2]\n",
    "        price_change = last_price - prev_price\n",
    "        pct_change = (price_change / prev_price) * 100\n",
    "\n",
    "        max_price = hist['High'].max()\n",
    "        low_price = hist['Low'].min()\n",
    "\n",
    "        return {\n",
    "            \"Stock Codes\": ticker,\n",
    "            \"Last Price\": round(last_price, 2),\n",
    "            \"Previous Day Price\": round(prev_price, 2),\n",
    "            \"Price Change\": round(price_change, 2),\n",
    "            \"% Change\": f\"{pct_change:.1f}%\",\n",
    "            \"Max Price\": round(max_price, 2),\n",
    "            \"Low Price\": round(low_price, 2)\n",
    "        }\n",
    "    except:\n",
    "        return None\n",
    "\n",
    "data = [get_price_data(tk) for tk in tickers]\n",
    "data = [d for d in data if d]\n",
    "df = pd.DataFrame(data)\n",
    "\n",
    "# === STEP 3: EXPORT TO CSV ===\n",
    "df.to_csv(\"top_growth_stocks.csv\", index=False)\n",
    "print(\"✅ Đã lưu file: top_growth_stocks.csv\")"
   ]
  },
  {
   "cell_type": "code",
   "execution_count": null,
   "metadata": {},
   "outputs": [
    {
     "name": "stderr",
     "output_type": "stream",
     "text": [
      "[*********************100%***********************]  1 of 1 completed"
     ]
    },
    {
     "name": "stdout",
     "output_type": "stream",
     "text": [
      "Price        Adj Close      30D MA      90D MA     Volume Prev Volume High\n",
      "Ticker            AAPL                               AAPL                 \n",
      "Date                                                                      \n",
      "2020-12-24  128.736969  119.508075  115.768225   54930100        426510000\n",
      "2020-12-28  133.341309  120.076466  115.997812  124486200        426510000\n",
      "2020-12-29  131.565933  120.584053  116.179892  121047300        426510000\n",
      "2020-12-30  130.444092  121.020427  116.283557   96452100        426510000\n",
      "2020-12-31  129.439362  121.452900  116.359964   99116600        426510000\n"
     ]
    },
    {
     "name": "stderr",
     "output_type": "stream",
     "text": [
      "\n"
     ]
    }
   ],
   "source": [
    "ticker = 'AAPL'\n",
    "data = yf.download(ticker, start='2018-01-01', end='2021-01-01', auto_adjust=False)\n",
    "\n",
    "# Chọn cột giá điều chỉnh nếu có\n",
    "price_col = 'Adj Close' if 'Adj Close' in data.columns else 'Close'\n",
    "\n",
    "# Tính trung bình động\n",
    "data['30D MA'] = data[price_col].rolling(window=30).mean()\n",
    "data['90D MA'] = data[price_col].rolling(window=90).mean()\n",
    "\n",
    "# Tính volume cao nhất đến thời điểm hiện tại (cumulative max)\n",
    "data['Prev Volume High'] = data['Volume'].cummax()\n",
    "\n",
    "# Chỉ giữ các cột cần thiết\n",
    "data_selected = data[[price_col, '30D MA', '90D MA', 'Volume', 'Prev Volume High']]\n",
    "\n",
    "# Xem trước dữ liệu\n",
    "print(data_selected.tail())"
   ]
  },
  {
   "cell_type": "code",
   "execution_count": 7,
   "metadata": {},
   "outputs": [],
   "source": [
    "data_selected.to_csv('aapl_processed.csv')"
   ]
  },
  {
   "cell_type": "code",
   "execution_count": null,
   "metadata": {},
   "outputs": [],
   "source": []
  },
  {
   "cell_type": "code",
   "execution_count": null,
   "metadata": {},
   "outputs": [
    {
     "data": {
      "text/plain": [
       "{'AAPL':                                  Open        High         Low       Close  \\\n",
       " Date                                                                        \n",
       " 1980-12-12 00:00:00-05:00    0.098597    0.099025    0.098597    0.098597   \n",
       " 1980-12-15 00:00:00-05:00    0.093881    0.093881    0.093453    0.093453   \n",
       " 1980-12-16 00:00:00-05:00    0.087022    0.087022    0.086594    0.086594   \n",
       " 1980-12-17 00:00:00-05:00    0.088737    0.089165    0.088737    0.088737   \n",
       " 1980-12-18 00:00:00-05:00    0.091310    0.091738    0.091310    0.091310   \n",
       " ...                               ...         ...         ...         ...   \n",
       " 2025-06-23 00:00:00-04:00  201.630005  202.300003  198.960007  201.500000   \n",
       " 2025-06-24 00:00:00-04:00  202.589996  203.440002  200.199997  200.300003   \n",
       " 2025-06-25 00:00:00-04:00  201.449997  203.669998  200.619995  201.559998   \n",
       " 2025-06-26 00:00:00-04:00  201.429993  202.639999  199.460007  201.000000   \n",
       " 2025-06-27 00:00:00-04:00  201.889999  203.220001  200.000000  201.080002   \n",
       " \n",
       "                               Volume  Dividends  Stock Splits  \n",
       " Date                                                           \n",
       " 1980-12-12 00:00:00-05:00  469033600        0.0           0.0  \n",
       " 1980-12-15 00:00:00-05:00  175884800        0.0           0.0  \n",
       " 1980-12-16 00:00:00-05:00  105728000        0.0           0.0  \n",
       " 1980-12-17 00:00:00-05:00   86441600        0.0           0.0  \n",
       " 1980-12-18 00:00:00-05:00   73449600        0.0           0.0  \n",
       " ...                              ...        ...           ...  \n",
       " 2025-06-23 00:00:00-04:00   55814300        0.0           0.0  \n",
       " 2025-06-24 00:00:00-04:00   54064000        0.0           0.0  \n",
       " 2025-06-25 00:00:00-04:00   39525700        0.0           0.0  \n",
       " 2025-06-26 00:00:00-04:00   50799100        0.0           0.0  \n",
       " 2025-06-27 00:00:00-04:00   73114100        0.0           0.0  \n",
       " \n",
       " [11226 rows x 7 columns],\n",
       " 'MSFT':                                  Open        High         Low       Close  \\\n",
       " Date                                                                        \n",
       " 1986-03-13 00:00:00-05:00    0.054277    0.062259    0.054277    0.059598   \n",
       " 1986-03-14 00:00:00-05:00    0.059598    0.062791    0.059598    0.061726   \n",
       " 1986-03-17 00:00:00-05:00    0.061726    0.063323    0.061726    0.062791   \n",
       " 1986-03-18 00:00:00-05:00    0.062791    0.063323    0.060662    0.061194   \n",
       " 1986-03-19 00:00:00-05:00    0.061194    0.061726    0.059598    0.060130   \n",
       " ...                               ...         ...         ...         ...   \n",
       " 2025-06-23 00:00:00-04:00  478.209991  487.750000  472.510010  486.000000   \n",
       " 2025-06-24 00:00:00-04:00  488.950012  491.850006  486.799988  490.109985   \n",
       " 2025-06-25 00:00:00-04:00  492.040009  494.559998  489.390015  492.269989   \n",
       " 2025-06-26 00:00:00-04:00  492.980011  498.040009  492.809998  497.450012   \n",
       " 2025-06-27 00:00:00-04:00  497.549988  499.299988  493.029999  495.940002   \n",
       " \n",
       "                                Volume  Dividends  Stock Splits  \n",
       " Date                                                            \n",
       " 1986-03-13 00:00:00-05:00  1031788800        0.0           0.0  \n",
       " 1986-03-14 00:00:00-05:00   308160000        0.0           0.0  \n",
       " 1986-03-17 00:00:00-05:00   133171200        0.0           0.0  \n",
       " 1986-03-18 00:00:00-05:00    67766400        0.0           0.0  \n",
       " 1986-03-19 00:00:00-05:00    47894400        0.0           0.0  \n",
       " ...                               ...        ...           ...  \n",
       " 2025-06-23 00:00:00-04:00    24864000        0.0           0.0  \n",
       " 2025-06-24 00:00:00-04:00    22305600        0.0           0.0  \n",
       " 2025-06-25 00:00:00-04:00    17495100        0.0           0.0  \n",
       " 2025-06-26 00:00:00-04:00    21578900        0.0           0.0  \n",
       " 2025-06-27 00:00:00-04:00    34532600        0.0           0.0  \n",
       " \n",
       " [9900 rows x 7 columns],\n",
       " 'GOOGL':                                  Open        High         Low       Close  \\\n",
       " Date                                                                        \n",
       " 2004-08-19 00:00:00-04:00    2.487584    2.588579    2.387085    2.496041   \n",
       " 2004-08-20 00:00:00-04:00    2.512708    2.713456    2.500021    2.694301   \n",
       " 2004-08-23 00:00:00-04:00    2.755000    2.822910    2.712710    2.721417   \n",
       " 2004-08-24 00:00:00-04:00    2.767188    2.776143    2.576390    2.608728   \n",
       " 2004-08-25 00:00:00-04:00    2.610968    2.686591    2.584102    2.636839   \n",
       " ...                               ...         ...         ...         ...   \n",
       " 2025-06-23 00:00:00-04:00  166.270004  167.339996  162.000000  165.190002   \n",
       " 2025-06-24 00:00:00-04:00  166.919998  168.220001  166.130005  166.770004   \n",
       " 2025-06-25 00:00:00-04:00  167.630005  172.360001  167.550003  170.679993   \n",
       " 2025-06-26 00:00:00-04:00  172.429993  173.690002  169.940002  173.539993   \n",
       " 2025-06-27 00:00:00-04:00  173.539993  178.679993  171.729996  178.529999   \n",
       " \n",
       "                               Volume  Dividends  Stock Splits  \n",
       " Date                                                           \n",
       " 2004-08-19 00:00:00-04:00  893181924        0.0           0.0  \n",
       " 2004-08-20 00:00:00-04:00  456686856        0.0           0.0  \n",
       " 2004-08-23 00:00:00-04:00  365122512        0.0           0.0  \n",
       " 2004-08-24 00:00:00-04:00  304946748        0.0           0.0  \n",
       " 2004-08-25 00:00:00-04:00  183772044        0.0           0.0  \n",
       " ...                              ...        ...           ...  \n",
       " 2025-06-23 00:00:00-04:00   57671000        0.0           0.0  \n",
       " 2025-06-24 00:00:00-04:00   40524300        0.0           0.0  \n",
       " 2025-06-25 00:00:00-04:00   35479000        0.0           0.0  \n",
       " 2025-06-26 00:00:00-04:00   31796700        0.0           0.0  \n",
       " 2025-06-27 00:00:00-04:00  108022600        0.0           0.0  \n",
       " \n",
       " [5248 rows x 7 columns]}"
      ]
     },
     "execution_count": 8,
     "metadata": {},
     "output_type": "execute_result"
    }
   ],
   "source": [
    "# The following function, STOCK, retrieves historical price data for a list of stock tickers using the yfinance library.\n",
    "# For each ticker in the provided list, it downloads the full available historical data (period=\"max\") and stores it in a dictionary,\n",
    "# where the keys are the ticker symbols and the values are pandas DataFrames containing the historical data for each stock.\n",
    "# Example usage is shown below, where the function is called with a list of tickers, and the resulting dictionary is displayed.\n",
    "\n",
    "def STOCK(tickers):\n",
    "    \"\"\"\n",
    "    Retrieve historical price data for a list of stock tickers.\n",
    "\n",
    "    Parameters:\n",
    "        tickers (list of str): List of stock ticker symbols.\n",
    "\n",
    "    Returns:\n",
    "        dict: A dictionary where each key is a ticker symbol and each value is a pandas DataFrame\n",
    "              containing the historical price data for that ticker.\n",
    "    \"\"\"\n",
    "    data = {}\n",
    "    for ticker in tickers:\n",
    "        data[ticker] = yf.Ticker(ticker).history(period=\"max\")\n",
    "    return data\n",
    "\n",
    "# Example usage:\n",
    "tickers = [\"AAPL\", \"MSFT\", \"GOOGL\"]  # List of example stock tickers\n",
    "df_dict = STOCK(tickers)\n",
    "df_dict  # Dictionary: {ticker: DataFrame of historical data}"
   ]
  },
  {
   "cell_type": "code",
   "execution_count": null,
   "metadata": {},
   "outputs": [
    {
     "data": {
      "text/html": [
       "<div>\n",
       "<style scoped>\n",
       "    .dataframe tbody tr th:only-of-type {\n",
       "        vertical-align: middle;\n",
       "    }\n",
       "\n",
       "    .dataframe tbody tr th {\n",
       "        vertical-align: top;\n",
       "    }\n",
       "\n",
       "    .dataframe thead th {\n",
       "        text-align: right;\n",
       "    }\n",
       "</style>\n",
       "<table border=\"1\" class=\"dataframe\">\n",
       "  <thead>\n",
       "    <tr style=\"text-align: right;\">\n",
       "      <th></th>\n",
       "      <th>exchange</th>\n",
       "      <th>industryLink</th>\n",
       "      <th>industryName</th>\n",
       "      <th>quoteType</th>\n",
       "      <th>rank</th>\n",
       "      <th>regularMarketChange</th>\n",
       "      <th>regularMarketPercentChange</th>\n",
       "      <th>regularMarketPrice</th>\n",
       "      <th>shortName</th>\n",
       "    </tr>\n",
       "    <tr>\n",
       "      <th>symbol</th>\n",
       "      <th></th>\n",
       "      <th></th>\n",
       "      <th></th>\n",
       "      <th></th>\n",
       "      <th></th>\n",
       "      <th></th>\n",
       "      <th></th>\n",
       "      <th></th>\n",
       "      <th></th>\n",
       "    </tr>\n",
       "  </thead>\n",
       "  <tbody>\n",
       "    <tr>\n",
       "      <th>AAPL</th>\n",
       "      <td>NMS</td>\n",
       "      <td>https://finance.yahoo.com/sector/technology</td>\n",
       "      <td>Technology</td>\n",
       "      <td>equity</td>\n",
       "      <td>34658.0</td>\n",
       "      <td>0.080002</td>\n",
       "      <td>0.039802</td>\n",
       "      <td>201.080002</td>\n",
       "      <td>Apple Inc.</td>\n",
       "    </tr>\n",
       "    <tr>\n",
       "      <th>AAPL.MX</th>\n",
       "      <td>MEX</td>\n",
       "      <td>https://finance.yahoo.com/sector/technology</td>\n",
       "      <td>Technology</td>\n",
       "      <td>equity</td>\n",
       "      <td>20122.0</td>\n",
       "      <td>-3.790039</td>\n",
       "      <td>-0.099896</td>\n",
       "      <td>3790.199951</td>\n",
       "      <td>APPLE INC</td>\n",
       "    </tr>\n",
       "    <tr>\n",
       "      <th>AAPU</th>\n",
       "      <td>NGM</td>\n",
       "      <td>NaN</td>\n",
       "      <td>NaN</td>\n",
       "      <td>etf</td>\n",
       "      <td>20017.0</td>\n",
       "      <td>0.020001</td>\n",
       "      <td>0.094879</td>\n",
       "      <td>21.100000</td>\n",
       "      <td>Direxion Daily AAPL Bull 2X Sha</td>\n",
       "    </tr>\n",
       "    <tr>\n",
       "      <th>AAPL.NE</th>\n",
       "      <td>NEO</td>\n",
       "      <td>https://finance.yahoo.com/sector/technology</td>\n",
       "      <td>Technology</td>\n",
       "      <td>equity</td>\n",
       "      <td>20006.0</td>\n",
       "      <td>-0.080000</td>\n",
       "      <td>-0.274442</td>\n",
       "      <td>29.070000</td>\n",
       "      <td>APPLE CDR (CAD HEDGED)</td>\n",
       "    </tr>\n",
       "    <tr>\n",
       "      <th>AAPB</th>\n",
       "      <td>NGM</td>\n",
       "      <td>NaN</td>\n",
       "      <td>NaN</td>\n",
       "      <td>etf</td>\n",
       "      <td>20005.0</td>\n",
       "      <td>0.096001</td>\n",
       "      <td>0.497052</td>\n",
       "      <td>19.410000</td>\n",
       "      <td>GraniteShares 2x Long AAPL Dail</td>\n",
       "    </tr>\n",
       "    <tr>\n",
       "      <th>AAPL.TO</th>\n",
       "      <td>TOR</td>\n",
       "      <td>https://finance.yahoo.com/sector/technology</td>\n",
       "      <td>Technology</td>\n",
       "      <td>equity</td>\n",
       "      <td>20004.0</td>\n",
       "      <td>0.760000</td>\n",
       "      <td>2.677943</td>\n",
       "      <td>29.139999</td>\n",
       "      <td>APPLE CDR (CAD HEDGED)</td>\n",
       "    </tr>\n",
       "    <tr>\n",
       "      <th>AAPS.L</th>\n",
       "      <td>LSE</td>\n",
       "      <td>NaN</td>\n",
       "      <td>NaN</td>\n",
       "      <td>etf</td>\n",
       "      <td>20002.0</td>\n",
       "      <td>-0.021500</td>\n",
       "      <td>-2.103717</td>\n",
       "      <td>1.000500</td>\n",
       "      <td>LEVERAGE SHARES PUBLIC LIMITED</td>\n",
       "    </tr>\n",
       "    <tr>\n",
       "      <th>APLY</th>\n",
       "      <td>PCX</td>\n",
       "      <td>NaN</td>\n",
       "      <td>NaN</td>\n",
       "      <td>etf</td>\n",
       "      <td>20002.0</td>\n",
       "      <td>0.040000</td>\n",
       "      <td>0.314960</td>\n",
       "      <td>12.740000</td>\n",
       "      <td>Tidal ETF Trust II YieldMax AAP</td>\n",
       "    </tr>\n",
       "    <tr>\n",
       "      <th>APLY.NE</th>\n",
       "      <td>NEO</td>\n",
       "      <td>NaN</td>\n",
       "      <td>NaN</td>\n",
       "      <td>etf</td>\n",
       "      <td>20002.0</td>\n",
       "      <td>-0.020000</td>\n",
       "      <td>-0.082476</td>\n",
       "      <td>24.230000</td>\n",
       "      <td>APPLE (AAPL) YIELD SHARES PURPO</td>\n",
       "    </tr>\n",
       "    <tr>\n",
       "      <th>AAPLUSTRAD.BO</th>\n",
       "      <td>BSE</td>\n",
       "      <td>https://finance.yahoo.com/sector/industrials</td>\n",
       "      <td>Industrials</td>\n",
       "      <td>equity</td>\n",
       "      <td>20002.0</td>\n",
       "      <td>0.000000</td>\n",
       "      <td>0.000000</td>\n",
       "      <td>0.740000</td>\n",
       "      <td>AA Plus Tradelink Limited</td>\n",
       "    </tr>\n",
       "    <tr>\n",
       "      <th>^APLY-TC</th>\n",
       "      <td>ASE</td>\n",
       "      <td>NaN</td>\n",
       "      <td>NaN</td>\n",
       "      <td>index</td>\n",
       "      <td>20002.0</td>\n",
       "      <td>-10444.150391</td>\n",
       "      <td>-57.552982</td>\n",
       "      <td>7702.870117</td>\n",
       "      <td>YIELDMAX AAPL OPTION INCOME STR</td>\n",
       "    </tr>\n",
       "    <tr>\n",
       "      <th>AAPL.BA</th>\n",
       "      <td>BUE</td>\n",
       "      <td>https://finance.yahoo.com/sector/technology</td>\n",
       "      <td>Technology</td>\n",
       "      <td>equity</td>\n",
       "      <td>20002.0</td>\n",
       "      <td>-50.000000</td>\n",
       "      <td>-0.412371</td>\n",
       "      <td>12075.000000</td>\n",
       "      <td>APPLE INC CEDEAR(REPR 1/20 SHR)</td>\n",
       "    </tr>\n",
       "    <tr>\n",
       "      <th>AAPLPXX</th>\n",
       "      <td>NAS</td>\n",
       "      <td>NaN</td>\n",
       "      <td>NaN</td>\n",
       "      <td>mutualfund</td>\n",
       "      <td>20002.0</td>\n",
       "      <td>0.030000</td>\n",
       "      <td>0.025809</td>\n",
       "      <td>116.269997</td>\n",
       "      <td>NaN</td>\n",
       "    </tr>\n",
       "    <tr>\n",
       "      <th>AAPY.DE</th>\n",
       "      <td>GER</td>\n",
       "      <td>NaN</td>\n",
       "      <td>NaN</td>\n",
       "      <td>equity</td>\n",
       "      <td>20001.0</td>\n",
       "      <td>0.044000</td>\n",
       "      <td>0.617589</td>\n",
       "      <td>7.168500</td>\n",
       "      <td>Leverage Shares PLC           E</td>\n",
       "    </tr>\n",
       "    <tr>\n",
       "      <th>AAPD</th>\n",
       "      <td>NGM</td>\n",
       "      <td>NaN</td>\n",
       "      <td>NaN</td>\n",
       "      <td>etf</td>\n",
       "      <td>20001.0</td>\n",
       "      <td>0.004999</td>\n",
       "      <td>0.027936</td>\n",
       "      <td>17.900000</td>\n",
       "      <td>Direxion Daily AAPL Bear 1X Sha</td>\n",
       "    </tr>\n",
       "    <tr>\n",
       "      <th>^AAPU-TC</th>\n",
       "      <td>ASE</td>\n",
       "      <td>NaN</td>\n",
       "      <td>NaN</td>\n",
       "      <td>index</td>\n",
       "      <td>20001.0</td>\n",
       "      <td>-3409.937500</td>\n",
       "      <td>-0.802418</td>\n",
       "      <td>421548.062500</td>\n",
       "      <td>DIREXION DAILY AAPL BULL 1.5X S</td>\n",
       "    </tr>\n",
       "    <tr>\n",
       "      <th>^APLY-EU</th>\n",
       "      <td>ASE</td>\n",
       "      <td>NaN</td>\n",
       "      <td>NaN</td>\n",
       "      <td>index</td>\n",
       "      <td>20001.0</td>\n",
       "      <td>9717.769531</td>\n",
       "      <td>415.585968</td>\n",
       "      <td>7379.439941</td>\n",
       "      <td>YIELDMAX AAPL OPTION INCOME STR</td>\n",
       "    </tr>\n",
       "    <tr>\n",
       "      <th>AAPLJXX</th>\n",
       "      <td>NAS</td>\n",
       "      <td>NaN</td>\n",
       "      <td>NaN</td>\n",
       "      <td>mutualfund</td>\n",
       "      <td>20001.0</td>\n",
       "      <td>0.020000</td>\n",
       "      <td>0.020408</td>\n",
       "      <td>98.019997</td>\n",
       "      <td>NaN</td>\n",
       "    </tr>\n",
       "    <tr>\n",
       "      <th>AAPLIXX</th>\n",
       "      <td>NAS</td>\n",
       "      <td>NaN</td>\n",
       "      <td>NaN</td>\n",
       "      <td>mutualfund</td>\n",
       "      <td>20001.0</td>\n",
       "      <td>-0.380000</td>\n",
       "      <td>-0.314491</td>\n",
       "      <td>120.449997</td>\n",
       "      <td>NaN</td>\n",
       "    </tr>\n",
       "    <tr>\n",
       "      <th>AAPLWXX</th>\n",
       "      <td>NAS</td>\n",
       "      <td>NaN</td>\n",
       "      <td>NaN</td>\n",
       "      <td>mutualfund</td>\n",
       "      <td>20001.0</td>\n",
       "      <td>0.050000</td>\n",
       "      <td>0.031799</td>\n",
       "      <td>157.289993</td>\n",
       "      <td>NaN</td>\n",
       "    </tr>\n",
       "    <tr>\n",
       "      <th>XS246371164.DU</th>\n",
       "      <td>DUS</td>\n",
       "      <td>NaN</td>\n",
       "      <td>NaN</td>\n",
       "      <td>equity</td>\n",
       "      <td>20001.0</td>\n",
       "      <td>-0.009995</td>\n",
       "      <td>-0.010043</td>\n",
       "      <td>99.510002</td>\n",
       "      <td>NaN</td>\n",
       "    </tr>\n",
       "    <tr>\n",
       "      <th>AAPLC.BA</th>\n",
       "      <td>BUE</td>\n",
       "      <td>NaN</td>\n",
       "      <td>NaN</td>\n",
       "      <td>equity</td>\n",
       "      <td>20001.0</td>\n",
       "      <td>0.050000</td>\n",
       "      <td>0.497514</td>\n",
       "      <td>10.100000</td>\n",
       "      <td>APPLE INC CEDEAR(REPR 1/10 SHR)</td>\n",
       "    </tr>\n",
       "    <tr>\n",
       "      <th>AAPLD.BA</th>\n",
       "      <td>BUE</td>\n",
       "      <td>NaN</td>\n",
       "      <td>NaN</td>\n",
       "      <td>equity</td>\n",
       "      <td>20001.0</td>\n",
       "      <td>0.049999</td>\n",
       "      <td>0.495042</td>\n",
       "      <td>10.150000</td>\n",
       "      <td>APPLE INC CEDEAR(REPR 1/20 SHR)</td>\n",
       "    </tr>\n",
       "    <tr>\n",
       "      <th>AAPLCL.SN</th>\n",
       "      <td>SGO</td>\n",
       "      <td>NaN</td>\n",
       "      <td>NaN</td>\n",
       "      <td>equity</td>\n",
       "      <td>20001.0</td>\n",
       "      <td>-3180.000000</td>\n",
       "      <td>-1.664921</td>\n",
       "      <td>187820.000000</td>\n",
       "      <td>APPLE INC</td>\n",
       "    </tr>\n",
       "    <tr>\n",
       "      <th>AAPL.CL</th>\n",
       "      <td>BVC</td>\n",
       "      <td>https://finance.yahoo.com/sector/technology</td>\n",
       "      <td>Technology</td>\n",
       "      <td>equity</td>\n",
       "      <td>20001.0</td>\n",
       "      <td>13000.000000</td>\n",
       "      <td>1.604938</td>\n",
       "      <td>823000.000000</td>\n",
       "      <td>APPLE INC</td>\n",
       "    </tr>\n",
       "    <tr>\n",
       "      <th>O3CS.Z</th>\n",
       "      <td>ZRH</td>\n",
       "      <td>NaN</td>\n",
       "      <td>NaN</td>\n",
       "      <td>index</td>\n",
       "      <td>20001.0</td>\n",
       "      <td>-0.100006</td>\n",
       "      <td>-0.046171</td>\n",
       "      <td>216.500000</td>\n",
       "      <td>iSTX.Inve.Leveraged -3X AAPL  I</td>\n",
       "    </tr>\n",
       "    <tr>\n",
       "      <th>^AAPU-NV</th>\n",
       "      <td>ASE</td>\n",
       "      <td>NaN</td>\n",
       "      <td>NaN</td>\n",
       "      <td>index</td>\n",
       "      <td>20001.0</td>\n",
       "      <td>-0.123999</td>\n",
       "      <td>-0.584489</td>\n",
       "      <td>21.090900</td>\n",
       "      <td>DIREXION DAILY AAPL BULL 1.5X S</td>\n",
       "    </tr>\n",
       "    <tr>\n",
       "      <th>AAPLDXX</th>\n",
       "      <td>NAS</td>\n",
       "      <td>NaN</td>\n",
       "      <td>NaN</td>\n",
       "      <td>mutualfund</td>\n",
       "      <td>20001.0</td>\n",
       "      <td>0.040000</td>\n",
       "      <td>0.030893</td>\n",
       "      <td>129.520004</td>\n",
       "      <td>NaN</td>\n",
       "    </tr>\n",
       "    <tr>\n",
       "      <th>AAPLYXX</th>\n",
       "      <td>NAS</td>\n",
       "      <td>NaN</td>\n",
       "      <td>NaN</td>\n",
       "      <td>mutualfund</td>\n",
       "      <td>20001.0</td>\n",
       "      <td>-0.070000</td>\n",
       "      <td>-0.049137</td>\n",
       "      <td>142.389999</td>\n",
       "      <td>NaN</td>\n",
       "    </tr>\n",
       "    <tr>\n",
       "      <th>AAPL34.SA</th>\n",
       "      <td>SAO</td>\n",
       "      <td>https://finance.yahoo.com/sector/technology</td>\n",
       "      <td>Technology</td>\n",
       "      <td>equity</td>\n",
       "      <td>20001.0</td>\n",
       "      <td>-0.079998</td>\n",
       "      <td>-0.145029</td>\n",
       "      <td>55.080002</td>\n",
       "      <td>APPLE       DRN</td>\n",
       "    </tr>\n",
       "    <tr>\n",
       "      <th>^AAPD-TC</th>\n",
       "      <td>ASE</td>\n",
       "      <td>NaN</td>\n",
       "      <td>NaN</td>\n",
       "      <td>index</td>\n",
       "      <td>20001.0</td>\n",
       "      <td>1314.875000</td>\n",
       "      <td>0.294907</td>\n",
       "      <td>447176.093750</td>\n",
       "      <td>DIREXION DAILY AAPL BEAR 1X SHA</td>\n",
       "    </tr>\n",
       "    <tr>\n",
       "      <th>^AAPU-EU</th>\n",
       "      <td>ASE</td>\n",
       "      <td>NaN</td>\n",
       "      <td>NaN</td>\n",
       "      <td>index</td>\n",
       "      <td>20001.0</td>\n",
       "      <td>-2604.281250</td>\n",
       "      <td>-0.613706</td>\n",
       "      <td>421749.062500</td>\n",
       "      <td>DIREXION DAILY AAPL BULL 1.5X S</td>\n",
       "    </tr>\n",
       "    <tr>\n",
       "      <th>^APLY-NV</th>\n",
       "      <td>ASE</td>\n",
       "      <td>NaN</td>\n",
       "      <td>NaN</td>\n",
       "      <td>index</td>\n",
       "      <td>20001.0</td>\n",
       "      <td>-0.013000</td>\n",
       "      <td>-0.102381</td>\n",
       "      <td>12.684200</td>\n",
       "      <td>YIELDMAX AAPL OPTION INCOME STR</td>\n",
       "    </tr>\n",
       "    <tr>\n",
       "      <th>^AAPD-NV</th>\n",
       "      <td>ASE</td>\n",
       "      <td>NaN</td>\n",
       "      <td>NaN</td>\n",
       "      <td>index</td>\n",
       "      <td>20001.0</td>\n",
       "      <td>0.052599</td>\n",
       "      <td>0.294930</td>\n",
       "      <td>17.886999</td>\n",
       "      <td>DIREXION DAILY AAPL BEAR 1X SHA</td>\n",
       "    </tr>\n",
       "    <tr>\n",
       "      <th>46JJ.Z</th>\n",
       "      <td>ZRH</td>\n",
       "      <td>NaN</td>\n",
       "      <td>NaN</td>\n",
       "      <td>index</td>\n",
       "      <td>20001.0</td>\n",
       "      <td>16.910156</td>\n",
       "      <td>0.090881</td>\n",
       "      <td>18623.830078</td>\n",
       "      <td>iSTOXX Leveraged 3X AAPL      I</td>\n",
       "    </tr>\n",
       "    <tr>\n",
       "      <th>AAPLZXX</th>\n",
       "      <td>NAS</td>\n",
       "      <td>NaN</td>\n",
       "      <td>NaN</td>\n",
       "      <td>mutualfund</td>\n",
       "      <td>20001.0</td>\n",
       "      <td>-0.030000</td>\n",
       "      <td>-0.029257</td>\n",
       "      <td>102.510002</td>\n",
       "      <td>NaN</td>\n",
       "    </tr>\n",
       "    <tr>\n",
       "      <th>AAPLVXX</th>\n",
       "      <td>NAS</td>\n",
       "      <td>NaN</td>\n",
       "      <td>NaN</td>\n",
       "      <td>mutualfund</td>\n",
       "      <td>20001.0</td>\n",
       "      <td>-1.470000</td>\n",
       "      <td>-1.169544</td>\n",
       "      <td>124.220001</td>\n",
       "      <td>NaN</td>\n",
       "    </tr>\n",
       "    <tr>\n",
       "      <th>AAPLTXX</th>\n",
       "      <td>NAS</td>\n",
       "      <td>NaN</td>\n",
       "      <td>NaN</td>\n",
       "      <td>mutualfund</td>\n",
       "      <td>20001.0</td>\n",
       "      <td>-0.010000</td>\n",
       "      <td>-0.008430</td>\n",
       "      <td>118.620003</td>\n",
       "      <td>NaN</td>\n",
       "    </tr>\n",
       "    <tr>\n",
       "      <th>AAPLOXX</th>\n",
       "      <td>NAS</td>\n",
       "      <td>NaN</td>\n",
       "      <td>NaN</td>\n",
       "      <td>mutualfund</td>\n",
       "      <td>20001.0</td>\n",
       "      <td>-0.010000</td>\n",
       "      <td>-0.010211</td>\n",
       "      <td>97.919998</td>\n",
       "      <td>NaN</td>\n",
       "    </tr>\n",
       "    <tr>\n",
       "      <th>AAPLB.BA</th>\n",
       "      <td>BUE</td>\n",
       "      <td>NaN</td>\n",
       "      <td>NaN</td>\n",
       "      <td>equity</td>\n",
       "      <td>20001.0</td>\n",
       "      <td>0.000000</td>\n",
       "      <td>0.000000</td>\n",
       "      <td>12100.000000</td>\n",
       "      <td>APPLE INC CEDEAR(REPR 1/10 SHR)</td>\n",
       "    </tr>\n",
       "    <tr>\n",
       "      <th>AAPL.VI</th>\n",
       "      <td>VIE</td>\n",
       "      <td>https://finance.yahoo.com/sector/technology</td>\n",
       "      <td>Technology</td>\n",
       "      <td>equity</td>\n",
       "      <td>20001.0</td>\n",
       "      <td>1.479996</td>\n",
       "      <td>0.867931</td>\n",
       "      <td>172.000000</td>\n",
       "      <td>APPLE INC</td>\n",
       "    </tr>\n",
       "    <tr>\n",
       "      <th>AAPL.SN</th>\n",
       "      <td>SGO</td>\n",
       "      <td>https://finance.yahoo.com/sector/technology</td>\n",
       "      <td>Technology</td>\n",
       "      <td>equity</td>\n",
       "      <td>20001.0</td>\n",
       "      <td>0.000000</td>\n",
       "      <td>0.000000</td>\n",
       "      <td>200.770004</td>\n",
       "      <td>APPLE INC</td>\n",
       "    </tr>\n",
       "    <tr>\n",
       "      <th>^AAPD-EU</th>\n",
       "      <td>ASE</td>\n",
       "      <td>NaN</td>\n",
       "      <td>NaN</td>\n",
       "      <td>index</td>\n",
       "      <td>20001.0</td>\n",
       "      <td>1314.875000</td>\n",
       "      <td>0.294907</td>\n",
       "      <td>447176.093750</td>\n",
       "      <td>DIREXION DAILY AAPL BEAR 1X SHA</td>\n",
       "    </tr>\n",
       "    <tr>\n",
       "      <th>^NY2LAAPL</th>\n",
       "      <td>NYS</td>\n",
       "      <td>NaN</td>\n",
       "      <td>NaN</td>\n",
       "      <td>index</td>\n",
       "      <td>20001.0</td>\n",
       "      <td>1.032715</td>\n",
       "      <td>0.062019</td>\n",
       "      <td>1666.189453</td>\n",
       "      <td>ICE Leveraged 2x AAPL Index</td>\n",
       "    </tr>\n",
       "    <tr>\n",
       "      <th>^AAPU-IV</th>\n",
       "      <td>ASE</td>\n",
       "      <td>NaN</td>\n",
       "      <td>NaN</td>\n",
       "      <td>index</td>\n",
       "      <td>20001.0</td>\n",
       "      <td>-0.001299</td>\n",
       "      <td>-0.006159</td>\n",
       "      <td>21.089500</td>\n",
       "      <td>DIREXION DAILY AAPL BULL 1.5X S</td>\n",
       "    </tr>\n",
       "    <tr>\n",
       "      <th>^AAPD-IV</th>\n",
       "      <td>ASE</td>\n",
       "      <td>NaN</td>\n",
       "      <td>NaN</td>\n",
       "      <td>index</td>\n",
       "      <td>20001.0</td>\n",
       "      <td>0.004801</td>\n",
       "      <td>0.026840</td>\n",
       "      <td>17.891800</td>\n",
       "      <td>DIREXION DAILY AAPL BEAR 1X SHA</td>\n",
       "    </tr>\n",
       "    <tr>\n",
       "      <th>46J5.Z</th>\n",
       "      <td>ZRH</td>\n",
       "      <td>NaN</td>\n",
       "      <td>NaN</td>\n",
       "      <td>index</td>\n",
       "      <td>20001.0</td>\n",
       "      <td>-0.010002</td>\n",
       "      <td>-0.013310</td>\n",
       "      <td>75.139999</td>\n",
       "      <td>iSTOXX Inv.Leveraged -1X AAPL I</td>\n",
       "    </tr>\n",
       "    <tr>\n",
       "      <th>AAPLGXX</th>\n",
       "      <td>NAS</td>\n",
       "      <td>NaN</td>\n",
       "      <td>NaN</td>\n",
       "      <td>mutualfund</td>\n",
       "      <td>20001.0</td>\n",
       "      <td>0.010000</td>\n",
       "      <td>0.008708</td>\n",
       "      <td>114.849998</td>\n",
       "      <td>NaN</td>\n",
       "    </tr>\n",
       "    <tr>\n",
       "      <th>AAPY.L</th>\n",
       "      <td>LSE</td>\n",
       "      <td>NaN</td>\n",
       "      <td>NaN</td>\n",
       "      <td>equity</td>\n",
       "      <td>NaN</td>\n",
       "      <td>0.062500</td>\n",
       "      <td>0.750300</td>\n",
       "      <td>8.392500</td>\n",
       "      <td>NaN</td>\n",
       "    </tr>\n",
       "    <tr>\n",
       "      <th>AAPL80.BK</th>\n",
       "      <td>SET</td>\n",
       "      <td>NaN</td>\n",
       "      <td>NaN</td>\n",
       "      <td>equity</td>\n",
       "      <td>NaN</td>\n",
       "      <td>0.000000</td>\n",
       "      <td>0.000000</td>\n",
       "      <td>6.600000</td>\n",
       "      <td>AAPL80_DR AAPL#KTB</td>\n",
       "    </tr>\n",
       "    <tr>\n",
       "      <th>AAPU.NE</th>\n",
       "      <td>NEO</td>\n",
       "      <td>NaN</td>\n",
       "      <td>NaN</td>\n",
       "      <td>etf</td>\n",
       "      <td>NaN</td>\n",
       "      <td>0.150000</td>\n",
       "      <td>0.755285</td>\n",
       "      <td>20.010000</td>\n",
       "      <td>SAVVYLONG 2X AAPL ETF</td>\n",
       "    </tr>\n",
       "    <tr>\n",
       "      <th>AAPU.TO</th>\n",
       "      <td>TOR</td>\n",
       "      <td>NaN</td>\n",
       "      <td>NaN</td>\n",
       "      <td>etf</td>\n",
       "      <td>NaN</td>\n",
       "      <td>1.040001</td>\n",
       "      <td>5.459323</td>\n",
       "      <td>20.090000</td>\n",
       "      <td>SAVVYLONG 2X AAPL ETF</td>\n",
       "    </tr>\n",
       "    <tr>\n",
       "      <th>SALE.L</th>\n",
       "      <td>LSE</td>\n",
       "      <td>NaN</td>\n",
       "      <td>NaN</td>\n",
       "      <td>etf</td>\n",
       "      <td>NaN</td>\n",
       "      <td>-0.016000</td>\n",
       "      <td>-1.832764</td>\n",
       "      <td>0.857000</td>\n",
       "      <td>LEVERAGE SHARES PUBLIC LIMITED</td>\n",
       "    </tr>\n",
       "    <tr>\n",
       "      <th>3SAA.L</th>\n",
       "      <td>LSE</td>\n",
       "      <td>NaN</td>\n",
       "      <td>NaN</td>\n",
       "      <td>etf</td>\n",
       "      <td>NaN</td>\n",
       "      <td>-1.349998</td>\n",
       "      <td>-1.815734</td>\n",
       "      <td>73.000000</td>\n",
       "      <td>LEVERAGE SHARES PUBLIC LIMITED</td>\n",
       "    </tr>\n",
       "    <tr>\n",
       "      <th>AAPL01.BK</th>\n",
       "      <td>SET</td>\n",
       "      <td>https://finance.yahoo.com/sector/technology</td>\n",
       "      <td>Technology</td>\n",
       "      <td>equity</td>\n",
       "      <td>NaN</td>\n",
       "      <td>0.100000</td>\n",
       "      <td>0.515466</td>\n",
       "      <td>19.500000</td>\n",
       "      <td>AAPL01_DR AAPL#BLS</td>\n",
       "    </tr>\n",
       "    <tr>\n",
       "      <th>AAPL.WA</th>\n",
       "      <td>WSE</td>\n",
       "      <td>https://finance.yahoo.com/sector/technology</td>\n",
       "      <td>Technology</td>\n",
       "      <td>equity</td>\n",
       "      <td>NaN</td>\n",
       "      <td>6.399963</td>\n",
       "      <td>0.879237</td>\n",
       "      <td>734.299988</td>\n",
       "      <td>APPLE</td>\n",
       "    </tr>\n",
       "  </tbody>\n",
       "</table>\n",
       "</div>"
      ],
      "text/plain": [
       "               exchange                                  industryLink  \\\n",
       "symbol                                                                  \n",
       "AAPL                NMS   https://finance.yahoo.com/sector/technology   \n",
       "AAPL.MX             MEX   https://finance.yahoo.com/sector/technology   \n",
       "AAPU                NGM                                           NaN   \n",
       "AAPL.NE             NEO   https://finance.yahoo.com/sector/technology   \n",
       "AAPB                NGM                                           NaN   \n",
       "AAPL.TO             TOR   https://finance.yahoo.com/sector/technology   \n",
       "AAPS.L              LSE                                           NaN   \n",
       "APLY                PCX                                           NaN   \n",
       "APLY.NE             NEO                                           NaN   \n",
       "AAPLUSTRAD.BO       BSE  https://finance.yahoo.com/sector/industrials   \n",
       "^APLY-TC            ASE                                           NaN   \n",
       "AAPL.BA             BUE   https://finance.yahoo.com/sector/technology   \n",
       "AAPLPXX             NAS                                           NaN   \n",
       "AAPY.DE             GER                                           NaN   \n",
       "AAPD                NGM                                           NaN   \n",
       "^AAPU-TC            ASE                                           NaN   \n",
       "^APLY-EU            ASE                                           NaN   \n",
       "AAPLJXX             NAS                                           NaN   \n",
       "AAPLIXX             NAS                                           NaN   \n",
       "AAPLWXX             NAS                                           NaN   \n",
       "XS246371164.DU      DUS                                           NaN   \n",
       "AAPLC.BA            BUE                                           NaN   \n",
       "AAPLD.BA            BUE                                           NaN   \n",
       "AAPLCL.SN           SGO                                           NaN   \n",
       "AAPL.CL             BVC   https://finance.yahoo.com/sector/technology   \n",
       "O3CS.Z              ZRH                                           NaN   \n",
       "^AAPU-NV            ASE                                           NaN   \n",
       "AAPLDXX             NAS                                           NaN   \n",
       "AAPLYXX             NAS                                           NaN   \n",
       "AAPL34.SA           SAO   https://finance.yahoo.com/sector/technology   \n",
       "^AAPD-TC            ASE                                           NaN   \n",
       "^AAPU-EU            ASE                                           NaN   \n",
       "^APLY-NV            ASE                                           NaN   \n",
       "^AAPD-NV            ASE                                           NaN   \n",
       "46JJ.Z              ZRH                                           NaN   \n",
       "AAPLZXX             NAS                                           NaN   \n",
       "AAPLVXX             NAS                                           NaN   \n",
       "AAPLTXX             NAS                                           NaN   \n",
       "AAPLOXX             NAS                                           NaN   \n",
       "AAPLB.BA            BUE                                           NaN   \n",
       "AAPL.VI             VIE   https://finance.yahoo.com/sector/technology   \n",
       "AAPL.SN             SGO   https://finance.yahoo.com/sector/technology   \n",
       "^AAPD-EU            ASE                                           NaN   \n",
       "^NY2LAAPL           NYS                                           NaN   \n",
       "^AAPU-IV            ASE                                           NaN   \n",
       "^AAPD-IV            ASE                                           NaN   \n",
       "46J5.Z              ZRH                                           NaN   \n",
       "AAPLGXX             NAS                                           NaN   \n",
       "AAPY.L              LSE                                           NaN   \n",
       "AAPL80.BK           SET                                           NaN   \n",
       "AAPU.NE             NEO                                           NaN   \n",
       "AAPU.TO             TOR                                           NaN   \n",
       "SALE.L              LSE                                           NaN   \n",
       "3SAA.L              LSE                                           NaN   \n",
       "AAPL01.BK           SET   https://finance.yahoo.com/sector/technology   \n",
       "AAPL.WA             WSE   https://finance.yahoo.com/sector/technology   \n",
       "\n",
       "               industryName   quoteType     rank  regularMarketChange  \\\n",
       "symbol                                                                  \n",
       "AAPL             Technology      equity  34658.0             0.080002   \n",
       "AAPL.MX          Technology      equity  20122.0            -3.790039   \n",
       "AAPU                    NaN         etf  20017.0             0.020001   \n",
       "AAPL.NE          Technology      equity  20006.0            -0.080000   \n",
       "AAPB                    NaN         etf  20005.0             0.096001   \n",
       "AAPL.TO          Technology      equity  20004.0             0.760000   \n",
       "AAPS.L                  NaN         etf  20002.0            -0.021500   \n",
       "APLY                    NaN         etf  20002.0             0.040000   \n",
       "APLY.NE                 NaN         etf  20002.0            -0.020000   \n",
       "AAPLUSTRAD.BO   Industrials      equity  20002.0             0.000000   \n",
       "^APLY-TC                NaN       index  20002.0        -10444.150391   \n",
       "AAPL.BA          Technology      equity  20002.0           -50.000000   \n",
       "AAPLPXX                 NaN  mutualfund  20002.0             0.030000   \n",
       "AAPY.DE                 NaN      equity  20001.0             0.044000   \n",
       "AAPD                    NaN         etf  20001.0             0.004999   \n",
       "^AAPU-TC                NaN       index  20001.0         -3409.937500   \n",
       "^APLY-EU                NaN       index  20001.0          9717.769531   \n",
       "AAPLJXX                 NaN  mutualfund  20001.0             0.020000   \n",
       "AAPLIXX                 NaN  mutualfund  20001.0            -0.380000   \n",
       "AAPLWXX                 NaN  mutualfund  20001.0             0.050000   \n",
       "XS246371164.DU          NaN      equity  20001.0            -0.009995   \n",
       "AAPLC.BA                NaN      equity  20001.0             0.050000   \n",
       "AAPLD.BA                NaN      equity  20001.0             0.049999   \n",
       "AAPLCL.SN               NaN      equity  20001.0         -3180.000000   \n",
       "AAPL.CL          Technology      equity  20001.0         13000.000000   \n",
       "O3CS.Z                  NaN       index  20001.0            -0.100006   \n",
       "^AAPU-NV                NaN       index  20001.0            -0.123999   \n",
       "AAPLDXX                 NaN  mutualfund  20001.0             0.040000   \n",
       "AAPLYXX                 NaN  mutualfund  20001.0            -0.070000   \n",
       "AAPL34.SA        Technology      equity  20001.0            -0.079998   \n",
       "^AAPD-TC                NaN       index  20001.0          1314.875000   \n",
       "^AAPU-EU                NaN       index  20001.0         -2604.281250   \n",
       "^APLY-NV                NaN       index  20001.0            -0.013000   \n",
       "^AAPD-NV                NaN       index  20001.0             0.052599   \n",
       "46JJ.Z                  NaN       index  20001.0            16.910156   \n",
       "AAPLZXX                 NaN  mutualfund  20001.0            -0.030000   \n",
       "AAPLVXX                 NaN  mutualfund  20001.0            -1.470000   \n",
       "AAPLTXX                 NaN  mutualfund  20001.0            -0.010000   \n",
       "AAPLOXX                 NaN  mutualfund  20001.0            -0.010000   \n",
       "AAPLB.BA                NaN      equity  20001.0             0.000000   \n",
       "AAPL.VI          Technology      equity  20001.0             1.479996   \n",
       "AAPL.SN          Technology      equity  20001.0             0.000000   \n",
       "^AAPD-EU                NaN       index  20001.0          1314.875000   \n",
       "^NY2LAAPL               NaN       index  20001.0             1.032715   \n",
       "^AAPU-IV                NaN       index  20001.0            -0.001299   \n",
       "^AAPD-IV                NaN       index  20001.0             0.004801   \n",
       "46J5.Z                  NaN       index  20001.0            -0.010002   \n",
       "AAPLGXX                 NaN  mutualfund  20001.0             0.010000   \n",
       "AAPY.L                  NaN      equity      NaN             0.062500   \n",
       "AAPL80.BK               NaN      equity      NaN             0.000000   \n",
       "AAPU.NE                 NaN         etf      NaN             0.150000   \n",
       "AAPU.TO                 NaN         etf      NaN             1.040001   \n",
       "SALE.L                  NaN         etf      NaN            -0.016000   \n",
       "3SAA.L                  NaN         etf      NaN            -1.349998   \n",
       "AAPL01.BK        Technology      equity      NaN             0.100000   \n",
       "AAPL.WA          Technology      equity      NaN             6.399963   \n",
       "\n",
       "                regularMarketPercentChange  regularMarketPrice  \\\n",
       "symbol                                                           \n",
       "AAPL                              0.039802          201.080002   \n",
       "AAPL.MX                          -0.099896         3790.199951   \n",
       "AAPU                              0.094879           21.100000   \n",
       "AAPL.NE                          -0.274442           29.070000   \n",
       "AAPB                              0.497052           19.410000   \n",
       "AAPL.TO                           2.677943           29.139999   \n",
       "AAPS.L                           -2.103717            1.000500   \n",
       "APLY                              0.314960           12.740000   \n",
       "APLY.NE                          -0.082476           24.230000   \n",
       "AAPLUSTRAD.BO                     0.000000            0.740000   \n",
       "^APLY-TC                        -57.552982         7702.870117   \n",
       "AAPL.BA                          -0.412371        12075.000000   \n",
       "AAPLPXX                           0.025809          116.269997   \n",
       "AAPY.DE                           0.617589            7.168500   \n",
       "AAPD                              0.027936           17.900000   \n",
       "^AAPU-TC                         -0.802418       421548.062500   \n",
       "^APLY-EU                        415.585968         7379.439941   \n",
       "AAPLJXX                           0.020408           98.019997   \n",
       "AAPLIXX                          -0.314491          120.449997   \n",
       "AAPLWXX                           0.031799          157.289993   \n",
       "XS246371164.DU                   -0.010043           99.510002   \n",
       "AAPLC.BA                          0.497514           10.100000   \n",
       "AAPLD.BA                          0.495042           10.150000   \n",
       "AAPLCL.SN                        -1.664921       187820.000000   \n",
       "AAPL.CL                           1.604938       823000.000000   \n",
       "O3CS.Z                           -0.046171          216.500000   \n",
       "^AAPU-NV                         -0.584489           21.090900   \n",
       "AAPLDXX                           0.030893          129.520004   \n",
       "AAPLYXX                          -0.049137          142.389999   \n",
       "AAPL34.SA                        -0.145029           55.080002   \n",
       "^AAPD-TC                          0.294907       447176.093750   \n",
       "^AAPU-EU                         -0.613706       421749.062500   \n",
       "^APLY-NV                         -0.102381           12.684200   \n",
       "^AAPD-NV                          0.294930           17.886999   \n",
       "46JJ.Z                            0.090881        18623.830078   \n",
       "AAPLZXX                          -0.029257          102.510002   \n",
       "AAPLVXX                          -1.169544          124.220001   \n",
       "AAPLTXX                          -0.008430          118.620003   \n",
       "AAPLOXX                          -0.010211           97.919998   \n",
       "AAPLB.BA                          0.000000        12100.000000   \n",
       "AAPL.VI                           0.867931          172.000000   \n",
       "AAPL.SN                           0.000000          200.770004   \n",
       "^AAPD-EU                          0.294907       447176.093750   \n",
       "^NY2LAAPL                         0.062019         1666.189453   \n",
       "^AAPU-IV                         -0.006159           21.089500   \n",
       "^AAPD-IV                          0.026840           17.891800   \n",
       "46J5.Z                           -0.013310           75.139999   \n",
       "AAPLGXX                           0.008708          114.849998   \n",
       "AAPY.L                            0.750300            8.392500   \n",
       "AAPL80.BK                         0.000000            6.600000   \n",
       "AAPU.NE                           0.755285           20.010000   \n",
       "AAPU.TO                           5.459323           20.090000   \n",
       "SALE.L                           -1.832764            0.857000   \n",
       "3SAA.L                           -1.815734           73.000000   \n",
       "AAPL01.BK                         0.515466           19.500000   \n",
       "AAPL.WA                           0.879237          734.299988   \n",
       "\n",
       "                                      shortName  \n",
       "symbol                                           \n",
       "AAPL                                 Apple Inc.  \n",
       "AAPL.MX                               APPLE INC  \n",
       "AAPU            Direxion Daily AAPL Bull 2X Sha  \n",
       "AAPL.NE                  APPLE CDR (CAD HEDGED)  \n",
       "AAPB            GraniteShares 2x Long AAPL Dail  \n",
       "AAPL.TO                  APPLE CDR (CAD HEDGED)  \n",
       "AAPS.L          LEVERAGE SHARES PUBLIC LIMITED   \n",
       "APLY            Tidal ETF Trust II YieldMax AAP  \n",
       "APLY.NE         APPLE (AAPL) YIELD SHARES PURPO  \n",
       "AAPLUSTRAD.BO         AA Plus Tradelink Limited  \n",
       "^APLY-TC        YIELDMAX AAPL OPTION INCOME STR  \n",
       "AAPL.BA         APPLE INC CEDEAR(REPR 1/20 SHR)  \n",
       "AAPLPXX                                     NaN  \n",
       "AAPY.DE         Leverage Shares PLC           E  \n",
       "AAPD            Direxion Daily AAPL Bear 1X Sha  \n",
       "^AAPU-TC        DIREXION DAILY AAPL BULL 1.5X S  \n",
       "^APLY-EU        YIELDMAX AAPL OPTION INCOME STR  \n",
       "AAPLJXX                                     NaN  \n",
       "AAPLIXX                                     NaN  \n",
       "AAPLWXX                                     NaN  \n",
       "XS246371164.DU                              NaN  \n",
       "AAPLC.BA        APPLE INC CEDEAR(REPR 1/10 SHR)  \n",
       "AAPLD.BA        APPLE INC CEDEAR(REPR 1/20 SHR)  \n",
       "AAPLCL.SN                             APPLE INC  \n",
       "AAPL.CL                               APPLE INC  \n",
       "O3CS.Z          iSTX.Inve.Leveraged -3X AAPL  I  \n",
       "^AAPU-NV        DIREXION DAILY AAPL BULL 1.5X S  \n",
       "AAPLDXX                                     NaN  \n",
       "AAPLYXX                                     NaN  \n",
       "AAPL34.SA                       APPLE       DRN  \n",
       "^AAPD-TC        DIREXION DAILY AAPL BEAR 1X SHA  \n",
       "^AAPU-EU        DIREXION DAILY AAPL BULL 1.5X S  \n",
       "^APLY-NV        YIELDMAX AAPL OPTION INCOME STR  \n",
       "^AAPD-NV        DIREXION DAILY AAPL BEAR 1X SHA  \n",
       "46JJ.Z          iSTOXX Leveraged 3X AAPL      I  \n",
       "AAPLZXX                                     NaN  \n",
       "AAPLVXX                                     NaN  \n",
       "AAPLTXX                                     NaN  \n",
       "AAPLOXX                                     NaN  \n",
       "AAPLB.BA        APPLE INC CEDEAR(REPR 1/10 SHR)  \n",
       "AAPL.VI                               APPLE INC  \n",
       "AAPL.SN                               APPLE INC  \n",
       "^AAPD-EU        DIREXION DAILY AAPL BEAR 1X SHA  \n",
       "^NY2LAAPL           ICE Leveraged 2x AAPL Index  \n",
       "^AAPU-IV        DIREXION DAILY AAPL BULL 1.5X S  \n",
       "^AAPD-IV        DIREXION DAILY AAPL BEAR 1X SHA  \n",
       "46J5.Z          iSTOXX Inv.Leveraged -1X AAPL I  \n",
       "AAPLGXX                                     NaN  \n",
       "AAPY.L                                      NaN  \n",
       "AAPL80.BK                    AAPL80_DR AAPL#KTB  \n",
       "AAPU.NE                   SAVVYLONG 2X AAPL ETF  \n",
       "AAPU.TO                   SAVVYLONG 2X AAPL ETF  \n",
       "SALE.L          LEVERAGE SHARES PUBLIC LIMITED   \n",
       "3SAA.L          LEVERAGE SHARES PUBLIC LIMITED   \n",
       "AAPL01.BK                    AAPL01_DR AAPL#BLS  \n",
       "AAPL.WA                                   APPLE  "
      ]
     },
     "execution_count": 9,
     "metadata": {},
     "output_type": "execute_result"
    }
   ],
   "source": [
    "# Get a DataFrame with all securities matching the query \"AAPL\" (up to 100 results)\n",
    "all = yf.Lookup(\"AAPL\").get_all(count=100)\n",
    "all"
   ]
  },
  {
   "cell_type": "code",
   "execution_count": null,
   "metadata": {},
   "outputs": [
    {
     "data": {
      "text/html": [
       "<div>\n",
       "<style scoped>\n",
       "    .dataframe tbody tr th:only-of-type {\n",
       "        vertical-align: middle;\n",
       "    }\n",
       "\n",
       "    .dataframe tbody tr th {\n",
       "        vertical-align: top;\n",
       "    }\n",
       "\n",
       "    .dataframe thead th {\n",
       "        text-align: right;\n",
       "    }\n",
       "</style>\n",
       "<table border=\"1\" class=\"dataframe\">\n",
       "  <thead>\n",
       "    <tr style=\"text-align: right;\">\n",
       "      <th></th>\n",
       "      <th>exchange</th>\n",
       "      <th>industryLink</th>\n",
       "      <th>industryName</th>\n",
       "      <th>quoteType</th>\n",
       "      <th>rank</th>\n",
       "      <th>regularMarketChange</th>\n",
       "      <th>regularMarketPercentChange</th>\n",
       "      <th>regularMarketPrice</th>\n",
       "      <th>shortName</th>\n",
       "    </tr>\n",
       "    <tr>\n",
       "      <th>symbol</th>\n",
       "      <th></th>\n",
       "      <th></th>\n",
       "      <th></th>\n",
       "      <th></th>\n",
       "      <th></th>\n",
       "      <th></th>\n",
       "      <th></th>\n",
       "      <th></th>\n",
       "      <th></th>\n",
       "    </tr>\n",
       "  </thead>\n",
       "  <tbody>\n",
       "    <tr>\n",
       "      <th>AAPL</th>\n",
       "      <td>NMS</td>\n",
       "      <td>https://finance.yahoo.com/sector/technology</td>\n",
       "      <td>Technology</td>\n",
       "      <td>equity</td>\n",
       "      <td>34658.0</td>\n",
       "      <td>0.080002</td>\n",
       "      <td>0.039802</td>\n",
       "      <td>201.080002</td>\n",
       "      <td>Apple Inc.</td>\n",
       "    </tr>\n",
       "    <tr>\n",
       "      <th>AAPL.MX</th>\n",
       "      <td>MEX</td>\n",
       "      <td>https://finance.yahoo.com/sector/technology</td>\n",
       "      <td>Technology</td>\n",
       "      <td>equity</td>\n",
       "      <td>20122.0</td>\n",
       "      <td>-3.790039</td>\n",
       "      <td>-0.099896</td>\n",
       "      <td>3790.199951</td>\n",
       "      <td>APPLE INC</td>\n",
       "    </tr>\n",
       "    <tr>\n",
       "      <th>AAPL.NE</th>\n",
       "      <td>NEO</td>\n",
       "      <td>https://finance.yahoo.com/sector/technology</td>\n",
       "      <td>Technology</td>\n",
       "      <td>equity</td>\n",
       "      <td>20006.0</td>\n",
       "      <td>-0.080000</td>\n",
       "      <td>-0.274442</td>\n",
       "      <td>29.070000</td>\n",
       "      <td>APPLE CDR (CAD HEDGED)</td>\n",
       "    </tr>\n",
       "    <tr>\n",
       "      <th>AAPL.TO</th>\n",
       "      <td>TOR</td>\n",
       "      <td>https://finance.yahoo.com/sector/technology</td>\n",
       "      <td>Technology</td>\n",
       "      <td>equity</td>\n",
       "      <td>20004.0</td>\n",
       "      <td>0.760000</td>\n",
       "      <td>2.677943</td>\n",
       "      <td>29.139999</td>\n",
       "      <td>APPLE CDR (CAD HEDGED)</td>\n",
       "    </tr>\n",
       "    <tr>\n",
       "      <th>AAPLUSTRAD.BO</th>\n",
       "      <td>BSE</td>\n",
       "      <td>https://finance.yahoo.com/sector/industrials</td>\n",
       "      <td>Industrials</td>\n",
       "      <td>equity</td>\n",
       "      <td>20002.0</td>\n",
       "      <td>0.000000</td>\n",
       "      <td>0.000000</td>\n",
       "      <td>0.740000</td>\n",
       "      <td>AA Plus Tradelink Limited</td>\n",
       "    </tr>\n",
       "    <tr>\n",
       "      <th>AAPL.BA</th>\n",
       "      <td>BUE</td>\n",
       "      <td>https://finance.yahoo.com/sector/technology</td>\n",
       "      <td>Technology</td>\n",
       "      <td>equity</td>\n",
       "      <td>20002.0</td>\n",
       "      <td>-50.000000</td>\n",
       "      <td>-0.412371</td>\n",
       "      <td>12075.000000</td>\n",
       "      <td>APPLE INC CEDEAR(REPR 1/20 SHR)</td>\n",
       "    </tr>\n",
       "    <tr>\n",
       "      <th>AAPY.DE</th>\n",
       "      <td>GER</td>\n",
       "      <td>NaN</td>\n",
       "      <td>NaN</td>\n",
       "      <td>equity</td>\n",
       "      <td>20001.0</td>\n",
       "      <td>0.044000</td>\n",
       "      <td>0.617589</td>\n",
       "      <td>7.168500</td>\n",
       "      <td>Leverage Shares PLC           E</td>\n",
       "    </tr>\n",
       "    <tr>\n",
       "      <th>XS246371164.DU</th>\n",
       "      <td>DUS</td>\n",
       "      <td>NaN</td>\n",
       "      <td>NaN</td>\n",
       "      <td>equity</td>\n",
       "      <td>20001.0</td>\n",
       "      <td>-0.009995</td>\n",
       "      <td>-0.010043</td>\n",
       "      <td>99.510002</td>\n",
       "      <td>NaN</td>\n",
       "    </tr>\n",
       "    <tr>\n",
       "      <th>AAPLC.BA</th>\n",
       "      <td>BUE</td>\n",
       "      <td>NaN</td>\n",
       "      <td>NaN</td>\n",
       "      <td>equity</td>\n",
       "      <td>20001.0</td>\n",
       "      <td>0.050000</td>\n",
       "      <td>0.497514</td>\n",
       "      <td>10.100000</td>\n",
       "      <td>APPLE INC CEDEAR(REPR 1/10 SHR)</td>\n",
       "    </tr>\n",
       "    <tr>\n",
       "      <th>AAPLD.BA</th>\n",
       "      <td>BUE</td>\n",
       "      <td>NaN</td>\n",
       "      <td>NaN</td>\n",
       "      <td>equity</td>\n",
       "      <td>20001.0</td>\n",
       "      <td>0.049999</td>\n",
       "      <td>0.495042</td>\n",
       "      <td>10.150000</td>\n",
       "      <td>APPLE INC CEDEAR(REPR 1/20 SHR)</td>\n",
       "    </tr>\n",
       "    <tr>\n",
       "      <th>AAPLCL.SN</th>\n",
       "      <td>SGO</td>\n",
       "      <td>NaN</td>\n",
       "      <td>NaN</td>\n",
       "      <td>equity</td>\n",
       "      <td>20001.0</td>\n",
       "      <td>-3180.000000</td>\n",
       "      <td>-1.664921</td>\n",
       "      <td>187820.000000</td>\n",
       "      <td>APPLE INC</td>\n",
       "    </tr>\n",
       "    <tr>\n",
       "      <th>AAPL.CL</th>\n",
       "      <td>BVC</td>\n",
       "      <td>https://finance.yahoo.com/sector/technology</td>\n",
       "      <td>Technology</td>\n",
       "      <td>equity</td>\n",
       "      <td>20001.0</td>\n",
       "      <td>13000.000000</td>\n",
       "      <td>1.604938</td>\n",
       "      <td>823000.000000</td>\n",
       "      <td>APPLE INC</td>\n",
       "    </tr>\n",
       "    <tr>\n",
       "      <th>AAPL34.SA</th>\n",
       "      <td>SAO</td>\n",
       "      <td>https://finance.yahoo.com/sector/technology</td>\n",
       "      <td>Technology</td>\n",
       "      <td>equity</td>\n",
       "      <td>20001.0</td>\n",
       "      <td>-0.079998</td>\n",
       "      <td>-0.145029</td>\n",
       "      <td>55.080002</td>\n",
       "      <td>APPLE       DRN</td>\n",
       "    </tr>\n",
       "    <tr>\n",
       "      <th>AAPLB.BA</th>\n",
       "      <td>BUE</td>\n",
       "      <td>NaN</td>\n",
       "      <td>NaN</td>\n",
       "      <td>equity</td>\n",
       "      <td>20001.0</td>\n",
       "      <td>0.000000</td>\n",
       "      <td>0.000000</td>\n",
       "      <td>12100.000000</td>\n",
       "      <td>APPLE INC CEDEAR(REPR 1/10 SHR)</td>\n",
       "    </tr>\n",
       "    <tr>\n",
       "      <th>AAPL.VI</th>\n",
       "      <td>VIE</td>\n",
       "      <td>https://finance.yahoo.com/sector/technology</td>\n",
       "      <td>Technology</td>\n",
       "      <td>equity</td>\n",
       "      <td>20001.0</td>\n",
       "      <td>1.479996</td>\n",
       "      <td>0.867931</td>\n",
       "      <td>172.000000</td>\n",
       "      <td>APPLE INC</td>\n",
       "    </tr>\n",
       "    <tr>\n",
       "      <th>AAPL.SN</th>\n",
       "      <td>SGO</td>\n",
       "      <td>https://finance.yahoo.com/sector/technology</td>\n",
       "      <td>Technology</td>\n",
       "      <td>equity</td>\n",
       "      <td>20001.0</td>\n",
       "      <td>0.000000</td>\n",
       "      <td>0.000000</td>\n",
       "      <td>200.770004</td>\n",
       "      <td>APPLE INC</td>\n",
       "    </tr>\n",
       "    <tr>\n",
       "      <th>AAPY.L</th>\n",
       "      <td>LSE</td>\n",
       "      <td>NaN</td>\n",
       "      <td>NaN</td>\n",
       "      <td>equity</td>\n",
       "      <td>NaN</td>\n",
       "      <td>0.062500</td>\n",
       "      <td>0.750300</td>\n",
       "      <td>8.392500</td>\n",
       "      <td>NaN</td>\n",
       "    </tr>\n",
       "    <tr>\n",
       "      <th>AAPL80.BK</th>\n",
       "      <td>SET</td>\n",
       "      <td>NaN</td>\n",
       "      <td>NaN</td>\n",
       "      <td>equity</td>\n",
       "      <td>NaN</td>\n",
       "      <td>0.000000</td>\n",
       "      <td>0.000000</td>\n",
       "      <td>6.600000</td>\n",
       "      <td>AAPL80_DR AAPL#KTB</td>\n",
       "    </tr>\n",
       "    <tr>\n",
       "      <th>AAPL01.BK</th>\n",
       "      <td>SET</td>\n",
       "      <td>https://finance.yahoo.com/sector/technology</td>\n",
       "      <td>Technology</td>\n",
       "      <td>equity</td>\n",
       "      <td>NaN</td>\n",
       "      <td>0.100000</td>\n",
       "      <td>0.515466</td>\n",
       "      <td>19.500000</td>\n",
       "      <td>AAPL01_DR AAPL#BLS</td>\n",
       "    </tr>\n",
       "    <tr>\n",
       "      <th>AAPL.WA</th>\n",
       "      <td>WSE</td>\n",
       "      <td>https://finance.yahoo.com/sector/technology</td>\n",
       "      <td>Technology</td>\n",
       "      <td>equity</td>\n",
       "      <td>NaN</td>\n",
       "      <td>6.399963</td>\n",
       "      <td>0.879237</td>\n",
       "      <td>734.299988</td>\n",
       "      <td>APPLE</td>\n",
       "    </tr>\n",
       "  </tbody>\n",
       "</table>\n",
       "</div>"
      ],
      "text/plain": [
       "               exchange                                  industryLink  \\\n",
       "symbol                                                                  \n",
       "AAPL                NMS   https://finance.yahoo.com/sector/technology   \n",
       "AAPL.MX             MEX   https://finance.yahoo.com/sector/technology   \n",
       "AAPL.NE             NEO   https://finance.yahoo.com/sector/technology   \n",
       "AAPL.TO             TOR   https://finance.yahoo.com/sector/technology   \n",
       "AAPLUSTRAD.BO       BSE  https://finance.yahoo.com/sector/industrials   \n",
       "AAPL.BA             BUE   https://finance.yahoo.com/sector/technology   \n",
       "AAPY.DE             GER                                           NaN   \n",
       "XS246371164.DU      DUS                                           NaN   \n",
       "AAPLC.BA            BUE                                           NaN   \n",
       "AAPLD.BA            BUE                                           NaN   \n",
       "AAPLCL.SN           SGO                                           NaN   \n",
       "AAPL.CL             BVC   https://finance.yahoo.com/sector/technology   \n",
       "AAPL34.SA           SAO   https://finance.yahoo.com/sector/technology   \n",
       "AAPLB.BA            BUE                                           NaN   \n",
       "AAPL.VI             VIE   https://finance.yahoo.com/sector/technology   \n",
       "AAPL.SN             SGO   https://finance.yahoo.com/sector/technology   \n",
       "AAPY.L              LSE                                           NaN   \n",
       "AAPL80.BK           SET                                           NaN   \n",
       "AAPL01.BK           SET   https://finance.yahoo.com/sector/technology   \n",
       "AAPL.WA             WSE   https://finance.yahoo.com/sector/technology   \n",
       "\n",
       "               industryName quoteType     rank  regularMarketChange  \\\n",
       "symbol                                                                \n",
       "AAPL             Technology    equity  34658.0             0.080002   \n",
       "AAPL.MX          Technology    equity  20122.0            -3.790039   \n",
       "AAPL.NE          Technology    equity  20006.0            -0.080000   \n",
       "AAPL.TO          Technology    equity  20004.0             0.760000   \n",
       "AAPLUSTRAD.BO   Industrials    equity  20002.0             0.000000   \n",
       "AAPL.BA          Technology    equity  20002.0           -50.000000   \n",
       "AAPY.DE                 NaN    equity  20001.0             0.044000   \n",
       "XS246371164.DU          NaN    equity  20001.0            -0.009995   \n",
       "AAPLC.BA                NaN    equity  20001.0             0.050000   \n",
       "AAPLD.BA                NaN    equity  20001.0             0.049999   \n",
       "AAPLCL.SN               NaN    equity  20001.0         -3180.000000   \n",
       "AAPL.CL          Technology    equity  20001.0         13000.000000   \n",
       "AAPL34.SA        Technology    equity  20001.0            -0.079998   \n",
       "AAPLB.BA                NaN    equity  20001.0             0.000000   \n",
       "AAPL.VI          Technology    equity  20001.0             1.479996   \n",
       "AAPL.SN          Technology    equity  20001.0             0.000000   \n",
       "AAPY.L                  NaN    equity      NaN             0.062500   \n",
       "AAPL80.BK               NaN    equity      NaN             0.000000   \n",
       "AAPL01.BK        Technology    equity      NaN             0.100000   \n",
       "AAPL.WA          Technology    equity      NaN             6.399963   \n",
       "\n",
       "                regularMarketPercentChange  regularMarketPrice  \\\n",
       "symbol                                                           \n",
       "AAPL                              0.039802          201.080002   \n",
       "AAPL.MX                          -0.099896         3790.199951   \n",
       "AAPL.NE                          -0.274442           29.070000   \n",
       "AAPL.TO                           2.677943           29.139999   \n",
       "AAPLUSTRAD.BO                     0.000000            0.740000   \n",
       "AAPL.BA                          -0.412371        12075.000000   \n",
       "AAPY.DE                           0.617589            7.168500   \n",
       "XS246371164.DU                   -0.010043           99.510002   \n",
       "AAPLC.BA                          0.497514           10.100000   \n",
       "AAPLD.BA                          0.495042           10.150000   \n",
       "AAPLCL.SN                        -1.664921       187820.000000   \n",
       "AAPL.CL                           1.604938       823000.000000   \n",
       "AAPL34.SA                        -0.145029           55.080002   \n",
       "AAPLB.BA                          0.000000        12100.000000   \n",
       "AAPL.VI                           0.867931          172.000000   \n",
       "AAPL.SN                           0.000000          200.770004   \n",
       "AAPY.L                            0.750300            8.392500   \n",
       "AAPL80.BK                         0.000000            6.600000   \n",
       "AAPL01.BK                         0.515466           19.500000   \n",
       "AAPL.WA                           0.879237          734.299988   \n",
       "\n",
       "                                      shortName  \n",
       "symbol                                           \n",
       "AAPL                                 Apple Inc.  \n",
       "AAPL.MX                               APPLE INC  \n",
       "AAPL.NE                  APPLE CDR (CAD HEDGED)  \n",
       "AAPL.TO                  APPLE CDR (CAD HEDGED)  \n",
       "AAPLUSTRAD.BO         AA Plus Tradelink Limited  \n",
       "AAPL.BA         APPLE INC CEDEAR(REPR 1/20 SHR)  \n",
       "AAPY.DE         Leverage Shares PLC           E  \n",
       "XS246371164.DU                              NaN  \n",
       "AAPLC.BA        APPLE INC CEDEAR(REPR 1/10 SHR)  \n",
       "AAPLD.BA        APPLE INC CEDEAR(REPR 1/20 SHR)  \n",
       "AAPLCL.SN                             APPLE INC  \n",
       "AAPL.CL                               APPLE INC  \n",
       "AAPL34.SA                       APPLE       DRN  \n",
       "AAPLB.BA        APPLE INC CEDEAR(REPR 1/10 SHR)  \n",
       "AAPL.VI                               APPLE INC  \n",
       "AAPL.SN                               APPLE INC  \n",
       "AAPY.L                                      NaN  \n",
       "AAPL80.BK                    AAPL80_DR AAPL#KTB  \n",
       "AAPL01.BK                    AAPL01_DR AAPL#BLS  \n",
       "AAPL.WA                                   APPLE  "
      ]
     },
     "execution_count": 10,
     "metadata": {},
     "output_type": "execute_result"
    }
   ],
   "source": [
    "stock = yf.Lookup(\"AAPL\").get_stock(count=100)\n",
    "stock"
   ]
  },
  {
   "cell_type": "code",
   "execution_count": null,
   "metadata": {},
   "outputs": [
    {
     "data": {
      "text/html": [
       "<div>\n",
       "<style scoped>\n",
       "    .dataframe tbody tr th:only-of-type {\n",
       "        vertical-align: middle;\n",
       "    }\n",
       "\n",
       "    .dataframe tbody tr th {\n",
       "        vertical-align: top;\n",
       "    }\n",
       "\n",
       "    .dataframe thead th {\n",
       "        text-align: right;\n",
       "    }\n",
       "</style>\n",
       "<table border=\"1\" class=\"dataframe\">\n",
       "  <thead>\n",
       "    <tr style=\"text-align: right;\">\n",
       "      <th></th>\n",
       "      <th>name</th>\n",
       "      <th>ytd return</th>\n",
       "      <th>growth estimate</th>\n",
       "    </tr>\n",
       "    <tr>\n",
       "      <th>symbol</th>\n",
       "      <th></th>\n",
       "      <th></th>\n",
       "      <th></th>\n",
       "    </tr>\n",
       "  </thead>\n",
       "  <tbody>\n",
       "    <tr>\n",
       "      <th>CFLT</th>\n",
       "      <td>Confluent, Inc.</td>\n",
       "      <td>-0.1248</td>\n",
       "      <td>5.500000</td>\n",
       "    </tr>\n",
       "    <tr>\n",
       "      <th>AVDX</th>\n",
       "      <td>AvidXchange Holdings, Inc.</td>\n",
       "      <td>-0.0532</td>\n",
       "      <td>3.000000</td>\n",
       "    </tr>\n",
       "    <tr>\n",
       "      <th>OSPN</th>\n",
       "      <td>OneSpan Inc.</td>\n",
       "      <td>-0.0933</td>\n",
       "      <td>2.000000</td>\n",
       "    </tr>\n",
       "    <tr>\n",
       "      <th>GB</th>\n",
       "      <td>Global Blue Group Holding AG</td>\n",
       "      <td>0.0794</td>\n",
       "      <td>1.809818</td>\n",
       "    </tr>\n",
       "    <tr>\n",
       "      <th>IOT</th>\n",
       "      <td>Samsara Inc.</td>\n",
       "      <td>-0.0936</td>\n",
       "      <td>1.428571</td>\n",
       "    </tr>\n",
       "  </tbody>\n",
       "</table>\n",
       "</div>"
      ],
      "text/plain": [
       "                                name  ytd return   growth estimate\n",
       "symbol                                                            \n",
       "CFLT                 Confluent, Inc.     -0.1248          5.500000\n",
       "AVDX      AvidXchange Holdings, Inc.     -0.0532          3.000000\n",
       "OSPN                    OneSpan Inc.     -0.0933          2.000000\n",
       "GB      Global Blue Group Holding AG      0.0794          1.809818\n",
       "IOT                     Samsara Inc.     -0.0936          1.428571"
      ]
     },
     "execution_count": 11,
     "metadata": {},
     "output_type": "execute_result"
    }
   ],
   "source": [
    "\n",
    "\n",
    "tech = yf.Sector('technology')\n",
    "software = yf.Industry('software-infrastructure')\n",
    "\n",
    "# Common information\n",
    "tech.key\n",
    "tech.name\n",
    "tech.symbol\n",
    "tech.ticker\n",
    "tech.overview\n",
    "tech.top_companies\n",
    "tech.research_reports\n",
    "\n",
    "# Sector information\n",
    "tech.top_etfs\n",
    "tech.top_mutual_funds\n",
    "tech.industries\n",
    "\n",
    "# Industry information\n",
    "software.sector_key\n",
    "software.sector_name\n",
    "software.top_performing_companies\n",
    "software.top_growth_companies"
   ]
  }
 ],
 "metadata": {
  "kernelspec": {
   "display_name": ".venv",
   "language": "python",
   "name": "python3"
  },
  "language_info": {
   "codemirror_mode": {
    "name": "ipython",
    "version": 3
   },
   "file_extension": ".py",
   "mimetype": "text/x-python",
   "name": "python",
   "nbconvert_exporter": "python",
   "pygments_lexer": "ipython3",
   "version": "3.13.3"
  }
 },
 "nbformat": 4,
 "nbformat_minor": 2
}
