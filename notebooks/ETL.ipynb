{
 "cells": [
  {
   "cell_type": "code",
   "execution_count": 11,
   "metadata": {},
   "outputs": [],
   "source": [
    "import pandas as pd\n",
    "import yfinance as yf\n",
    "from vnstock import Vnstock\n",
    "import matplotlib.pyplot as plt\n",
    "import seaborn as sns\n",
    "import plotly.express as px\n",
    "import plotly.graph_objects as go"
   ]
  },
  {
   "cell_type": "code",
   "execution_count": null,
   "metadata": {},
   "outputs": [
    {
     "name": "stdout",
     "output_type": "stream",
     "text": [
      "        time   open   high    low  close    volume\n",
      "0 2024-01-02  16.81  17.37  16.81  17.16  13896933\n",
      "1 2024-01-03  17.19  17.55  17.02  17.55   9817807\n",
      "2 2024-01-04  17.69  18.00  17.62  17.76  23605373\n",
      "3 2024-01-05  17.76  17.86  17.58  17.86   9282598\n",
      "4 2024-01-08  18.04  18.07  17.69  17.79  12398885\n"
     ]
    }
   ],
   "source": [
    "from vnstock import Vnstock\n",
    "stock = Vnstock().stock(symbol='ACB', source='VCI') \n",
    "df = stock.quote.history(start='2024-01-01', end='2024-06-21', interval='1D')\n",
    "print(df.head())"
   ]
  }
 ],
 "metadata": {
  "kernelspec": {
   "display_name": ".venv",
   "language": "python",
   "name": "python3"
  },
  "language_info": {
   "codemirror_mode": {
    "name": "ipython",
    "version": 3
   },
   "file_extension": ".py",
   "mimetype": "text/x-python",
   "name": "python",
   "nbconvert_exporter": "python",
   "pygments_lexer": "ipython3",
   "version": "3.13.3"
  }
 },
 "nbformat": 4,
 "nbformat_minor": 2
}
